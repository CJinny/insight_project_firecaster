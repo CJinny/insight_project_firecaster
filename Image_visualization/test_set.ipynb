{
 "cells": [
  {
   "cell_type": "code",
   "execution_count": 1,
   "metadata": {},
   "outputs": [],
   "source": [
    "##\n",
    "import numpy as np\n",
    "import pandas as pd\n",
    "\n",
    "import gc\n",
    "import os\n",
    "from matplotlib import pyplot as plt\n",
    "import rasterio\n",
    "import geopandas as gpd\n",
    "from rasterio.plot import show, show_hist\n",
    "import rasterio\n",
    "import rasterio.mask as Mask\n",
    "import rasterio.features\n",
    "import rasterio.warp\n",
    "from rasterio.plot import show_hist\n",
    "import fiona\n",
    "import os\n",
    "import glob\n",
    "import shapely\n",
    "from shapely.geometry import LineString, Polygon, Polygon, Point, MultiPoint, MultiPolygon\n",
    "from functools import partial\n",
    "import pyproj\n",
    "import shapely\n",
    "from shapely.ops import transform\n",
    "from tqdm import tqdm_notebook, tqdm\n",
    "## help with figure rotation\n",
    "from scipy import ndimage, misc\n",
    "from shapely.geometry import Point\n",
    "import geopandas as gpd\n",
    "import cv2   # usse to resize images so that every image would have the same size!!!! \n",
    "## GDAL_DATA environment problem\n",
    "os.environ['GDAL_DATA'] = '/opt/anaconda3/pkgs/libgdal-2.3.3-h0950a36_0/share/gdal'\n",
    "fiona.drvsupport.supported_drivers['kml'] = 'rw'\n",
    "fiona.drvsupport.supported_drivers['KML'] = 'rw'\n",
    "import seaborn as sns\n",
    "from matplotlib import pyplot as plt\n",
    "from matplotlib_scalebar.scalebar import ScaleBar\n",
    "from sklearn.metrics import recall_score, precision_score, f1_score, fbeta_score, cohen_kappa_score, roc_auc_score, accuracy_score\n"
   ]
  },
  {
   "cell_type": "code",
   "execution_count": 12,
   "metadata": {},
   "outputs": [],
   "source": [
    "def concat_bands(name='L1C_T53HPA_A004418_20180110T005319', \n",
    "                 BASE = '/Volumes/My Passport for Mac/sentinel_2_53HPA/',\n",
    "                 #OUT='/Volumes/My Passport for Mac/'\n",
    "                 ):\n",
    "    '''Resize all bands to (5490, 5490), resolution at 20meter/pixel'''\n",
    "\n",
    "    b01 = rasterio.open(BASE+name+'_b01.tif').read(1)\n",
    "    b01 = np.expand_dims(cv2.resize(b01, (5490,5490)), axis=2)[3000:4000,2200:3200,:]\n",
    "    b09 = rasterio.open(BASE+name+'_b09.tif').read(1)\n",
    "    b09 = np.expand_dims(cv2.resize(b09, (5490,5490)), axis=2)[3000:4000,2200:3200,:]\n",
    "    b10 = rasterio.open(BASE+name+'_b10.tif').read(1)\n",
    "    b10 = np.expand_dims(cv2.resize(b10, (5490,5490)), axis=2)[3000:4000,2200:3200,:]\n",
    "\n",
    "    b02 = rasterio.open(BASE+name+'_b02.tif').read(1)\n",
    "    b02 = np.expand_dims(cv2.resize(b02, (5490,5490)), axis=2)[3000:4000,2200:3200,:]\n",
    "    b03 = rasterio.open(BASE+name+'_b03.tif').read(1)\n",
    "    b03 = np.expand_dims(cv2.resize(b03, (5490,5490)), axis=2)[3000:4000,2200:3200,:]\n",
    "    b04 = rasterio.open(BASE+name+'_b04.tif').read(1)\n",
    "    b04 = np.expand_dims(cv2.resize(b04, (5490,5490)), axis=2)[3000:4000,2200:3200,:]\n",
    "    b08 = rasterio.open(BASE+name+'_b08.tif').read(1)\n",
    "    b08 = np.expand_dims(cv2.resize(b08, (5490,5490)), axis=2)[3000:4000,2200:3200,:]\n",
    "    tci = rasterio.open(BASE+name+'_tci.tif').read(1)\n",
    "    tci = np.expand_dims(cv2.resize(tci, (5490,5490)), axis=2)[3000:4000,2200:3200,:]\n",
    "\n",
    "    b05 = np.expand_dims(rasterio.open(BASE+name+'_b05.tif').read(1), axis=2)[3000:4000,2200:3200,:]\n",
    "    b06 = np.expand_dims(rasterio.open(BASE+name+'_b06.tif').read(1), axis=2)[3000:4000,2200:3200,:]\n",
    "    b07 = np.expand_dims(rasterio.open(BASE+name+'_b07.tif').read(1), axis=2)[3000:4000,2200:3200,:]\n",
    "    b8A = np.expand_dims(rasterio.open(BASE+name+'_b8A.tif').read(1), axis=2)[3000:4000,2200:3200,:]\n",
    "    b11 = np.expand_dims(rasterio.open(BASE+name+'_b11.tif').read(1), axis=2)[3000:4000,2200:3200,:]\n",
    "    b12 = np.expand_dims(rasterio.open(BASE+name+'_b12.tif').read(1), axis=2)[3000:4000,2200:3200,:]\n",
    "    \n",
    "    concat = np.concatenate([b01,b02,b03,b04,b05,b06,b07,b08,b09,b10,b11,b12,b8A,tci],axis=-1)\n",
    "    concat = np.expand_dims(concat, 0)\n",
    "    return concat\n",
    "\n",
    "def expand_nbr(name='L1C_T53HPA_A004418_20180110T005319', \n",
    "                 BASE = '/Volumes/My Passport for Mac/sentinel_2_53HPA/',\n",
    "                 #OUT='/Volumes/My Passport for Mac/'\n",
    "                 A=200\n",
    "                 ):\n",
    "    \n",
    "    ## add 200 paddings outwards!\n",
    "    smooth=1e-5\n",
    "    b08 = rasterio.open(BASE+name+'_b08.tif').read(1)\n",
    "    b08 = np.expand_dims(cv2.resize(b08, (5490,5490)), axis=2)[3000-A:4000+A,2200-A:3200+A,:]\n",
    "    b12 = np.expand_dims(rasterio.open(BASE+name+'_b12.tif').read(1), axis=2)[3000-A:4000+A,2200-A:3200+A,:]\n",
    "    nbr = (b08-b12+smooth)/(b08+b12+smooth)\n",
    "    nbr = np.expand_dims(nbr, 0)\n",
    "    return nbr\n",
    "\n",
    "\n",
    "bigquery_res = pd.read_csv('/Volumes/My Passport for Mac/sentinel_2_53HPA/bigquery_results_s.csv', index_col=0)\n",
    "bigquery_res['sensing_time'] = pd.to_datetime(bigquery_res['sensing_time'])\n",
    "bigquery_res = bigquery_res[bigquery_res['cloud_cover']<75]\n",
    "bigquery_res = bigquery_res.reset_index(drop=True)\n"
   ]
  },
  {
   "cell_type": "code",
   "execution_count": 3,
   "metadata": {},
   "outputs": [],
   "source": []
  },
  {
   "cell_type": "code",
   "execution_count": 151,
   "metadata": {},
   "outputs": [
    {
     "data": {
      "text/plain": [
       "['L1C_T53HPA_A004418_20180110T005319',\n",
       " 'L1C_T53HPA_A013398_20180115T005320',\n",
       " 'L1C_T53HPA_A004847_20180209T004659',\n",
       " 'L1C_T53HPA_A013827_20180214T004702',\n",
       " 'L1C_T53HPA_A004990_20180219T005320',\n",
       " 'L1C_T53HPA_A005133_20180301T004657',\n",
       " 'L1C_T53HPA_A014113_20180306T004702',\n",
       " 'L1C_T53HPA_A005276_20180311T004657',\n",
       " 'L1C_T53HPA_A005562_20180331T004702',\n",
       " 'L1C_T53HPA_A014542_20180405T004706',\n",
       " 'L1C_T53HPA_A014685_20180415T004707',\n",
       " 'L1C_T53HPA_A005848_20180420T004704',\n",
       " 'L1C_T53HPA_A014828_20180425T005334',\n",
       " 'L1C_T53HPA_A014971_20180505T004708',\n",
       " 'L1C_T53HPA_A006134_20180510T004704',\n",
       " 'L1C_T53HPA_A015114_20180515T004708',\n",
       " 'L1C_T53HPA_A015257_20180525T004708',\n",
       " 'L1C_T53HPA_A006420_20180530T005610',\n",
       " 'L1C_T53HPA_A006563_20180609T005611',\n",
       " 'L1C_T53HPA_A015543_20180614T004705',\n",
       " 'L1C_T53HPA_A015686_20180624T004706',\n",
       " 'L1C_T53HPA_A006992_20180709T005232',\n",
       " 'L1C_T53HPA_A015972_20180714T004707',\n",
       " 'L1C_T53HPA_A007135_20180719T005247',\n",
       " 'L1C_T53HPA_A016115_20180724T004707',\n",
       " 'L1C_T53HPA_A007278_20180729T005246',\n",
       " 'L1C_T53HPA_A016258_20180803T004706',\n",
       " 'L1C_T53HPA_A007421_20180808T005244',\n",
       " 'L1C_T53HPA_A016401_20180813T004705',\n",
       " 'L1C_T53HPA_A007564_20180818T005242',\n",
       " 'L1C_T53HPA_A007707_20180828T005153',\n",
       " 'L1C_T53HPA_A016687_20180902T004704',\n",
       " 'L1C_T53HPA_A007850_20180907T005240',\n",
       " 'L1C_T53HPA_A016830_20180912T005159',\n",
       " 'L1C_T53HPA_A007993_20180917T005240',\n",
       " 'L1C_T53HPA_A016973_20180922T004701',\n",
       " 'L1C_T53HPA_A017116_20181002T004702',\n",
       " 'L1C_T53HPA_A008279_20181007T005244',\n",
       " 'L1C_T53HPA_A017259_20181012T004703',\n",
       " 'L1C_T53HPA_A017402_20181022T004703',\n",
       " 'L1C_T53HPA_A008565_20181027T005351',\n",
       " 'L1C_T53HPA_A008708_20181106T005459',\n",
       " 'L1C_T53HPA_A017688_20181111T004701',\n",
       " 'L1C_T53HPA_A008851_20181116T005550',\n",
       " 'L1C_T53HPA_A017831_20181121T004659',\n",
       " 'L1C_T53HPA_A009137_20181206T004701',\n",
       " 'L1C_T53HPA_A018117_20181211T004658',\n",
       " 'L1C_T53HPA_A018260_20181221T004658',\n",
       " 'L1C_T53HPA_A009423_20181226T004702',\n",
       " 'L1C_T53HPA_A018403_20181231T004700',\n",
       " 'L1C_T53HPA_A009566_20190105T004704',\n",
       " 'L1C_T53HPA_A009709_20190115T005642',\n",
       " 'L1C_T53HPA_A018689_20190120T004702',\n",
       " 'L1C_T53HPA_A018832_20190130T004703',\n",
       " 'L1C_T53HPA_A009995_20190204T005513',\n",
       " 'L1C_T53HPA_A018975_20190209T004703',\n",
       " 'L1C_T53HPA_A010138_20190214T005415',\n",
       " 'L1C_T53HPA_A019118_20190219T004607',\n",
       " 'L1C_T53HPA_A010281_20190224T005306',\n",
       " 'L1C_T53HPA_A019261_20190301T004701',\n",
       " 'L1C_T53HPA_A010424_20190306T005257',\n",
       " 'L1C_T53HPA_A019404_20190311T004701',\n",
       " 'L1C_T53HPA_A010567_20190316T005258',\n",
       " 'L1C_T53HPA_A010710_20190326T005301',\n",
       " 'L1C_T53HPA_A010853_20190405T005303',\n",
       " 'L1C_T53HPA_A019833_20190410T004708',\n",
       " 'L1C_T53HPA_A011139_20190425T005307',\n",
       " 'L1C_T53HPA_A020262_20190510T004710',\n",
       " 'L1C_T53HPA_A011425_20190515T005308',\n",
       " 'L1C_T53HPA_A020405_20190520T004710',\n",
       " 'L1C_T53HPA_A011568_20190525T005308',\n",
       " 'L1C_T53HPA_A020548_20190530T004709',\n",
       " 'L1C_T53HPA_A011711_20190604T005308',\n",
       " 'L1C_T53HPA_A011854_20190614T005307',\n",
       " 'L1C_T53HPA_A020834_20190619T004710',\n",
       " 'L1C_T53HPA_A012140_20190704T005309',\n",
       " 'L1C_T53HPA_A021120_20190709T004711',\n",
       " 'L1C_T53HPA_A012283_20190714T005309',\n",
       " 'L1C_T53HPA_A021263_20190719T004711',\n",
       " 'L1C_T53HPA_A012426_20190724T005308',\n",
       " 'L1C_T53HPA_A021406_20190729T004711',\n",
       " 'L1C_T53HPA_A012712_20190813T005306',\n",
       " 'L1C_T53HPA_A021692_20190818T004709',\n",
       " 'L1C_T53HPA_A012855_20190823T005305',\n",
       " 'L1C_T53HPA_A021978_20190907T004705',\n",
       " 'L1C_T53HPA_A013141_20190912T005301',\n",
       " 'L1C_T53HPA_A022121_20190917T004705',\n",
       " 'L1C_T53HPA_A013284_20190922T005259',\n",
       " 'L1C_T53HPA_A022264_20190927T004707',\n",
       " 'L1C_T53HPA_A013427_20191002T005300',\n",
       " 'L1C_T53HPA_A022407_20191007T004708',\n",
       " 'L1C_T53HPA_A013570_20191012T005301',\n",
       " 'L1C_T53HPA_A022550_20191017T004709',\n",
       " 'L1C_T53HPA_A013713_20191022T005326',\n",
       " 'L1C_T53HPA_A022693_20191027T004709',\n",
       " 'L1C_T53HPA_A022836_20191106T004843',\n",
       " 'L1C_T53HPA_A013999_20191111T005526',\n",
       " 'L1C_T53HPA_A022979_20191116T004708',\n",
       " 'L1C_T53HPA_A014142_20191121T005611',\n",
       " 'L1C_T53HPA_A023122_20191126T004706',\n",
       " 'L1C_T53HPA_A014285_20191201T005642',\n",
       " 'L1C_T53HPA_A023265_20191206T004704',\n",
       " 'L1C_T53HPA_A014428_20191211T004700',\n",
       " 'L1C_T53HPA_A023408_20191216T004701',\n",
       " 'L1C_T53HPA_A014571_20191221T004701',\n",
       " 'L1C_T53HPA_A023551_20191226T004700',\n",
       " 'L1C_T53HPA_A014714_20191231T004701',\n",
       " 'L1C_T53HPA_A023694_20200105T004700',\n",
       " 'L1C_T53HPA_A023837_20200115T004700']"
      ]
     },
     "execution_count": 151,
     "metadata": {},
     "output_type": "execute_result"
    }
   ],
   "source": [
    "bigquery_res['granule_id'].values.tolist()"
   ]
  },
  {
   "cell_type": "code",
   "execution_count": 41,
   "metadata": {},
   "outputs": [],
   "source": [
    "id_names = bigquery_res['granule_id'].values.tolist()\n",
    "id_names.extend(['L1C_T53HPA_A015000_20200120T005618','L1C_T53HPA_A023980_20200125T004659', 'L1C_T53HPA_A015143_20200130T005534'])\n",
    "id_names = id_names[-7:]\n"
   ]
  },
  {
   "cell_type": "code",
   "execution_count": 42,
   "metadata": {},
   "outputs": [
    {
     "data": {
      "application/vnd.jupyter.widget-view+json": {
       "model_id": "4574f08bae90495a8a3ad02e290f70a7",
       "version_major": 2,
       "version_minor": 0
      },
      "text/plain": [
       "HBox(children=(IntProgress(value=0, max=7), HTML(value='')))"
      ]
     },
     "metadata": {},
     "output_type": "display_data"
    }
   ],
   "source": [
    "for i in tqdm_notebook(range(len(id_names))):\n",
    "    if i == 0:\n",
    "        imgs = concat_bands(id_names[i])\n",
    "        exp_nbr = expand_nbr(name=id_names[i])\n",
    "    else:\n",
    "        imgs = np.concatenate([imgs, concat_bands(id_names[i])])\n",
    "        exp_nbr = np.concatenate([exp_nbr, expand_nbr(name=id_names[i])],0)\n"
   ]
  },
  {
   "cell_type": "code",
   "execution_count": 43,
   "metadata": {},
   "outputs": [],
   "source": [
    "adjacency = np.zeros((len(exp_nbr)-1,1400,1400,1))\n",
    "for i in range(len(exp_nbr)-1):\n",
    "    adjacency[i,:] = exp_nbr[i,:] - exp_nbr[i+1,:]\n",
    "\n",
    "dnbr = adjacency[:,200:1200,200:1200,:]\n",
    "water_mask = np.load('../../water_mask_based_on_ndvi_565.npy')\n",
    "water_mask = np.expand_dims(water_mask, 2)\n",
    "\n",
    "labs = (dnbr>0.66).astype(int)\n",
    "for i in range(len(labs)):\n",
    "    labs[i,:][water_mask==1] = 0\n",
    "\n",
    "    "
   ]
  },
  {
   "cell_type": "code",
   "execution_count": 35,
   "metadata": {},
   "outputs": [],
   "source": [
    "class Data(object):\n",
    "    def __init__(self, imgs, labs, zone_idx=np.arange(25)):\n",
    "        self.imgs = imgs\n",
    "        self.labs = labs\n",
    "        self.size = len(labs)\n",
    "        self.zone_idx = zone_idx\n",
    "\n",
    "    def extract_single_zone(self, imgs, labs, idx=0):\n",
    "        \"\"\"extract a single zone based on the index\"\"\"\n",
    "        assert idx >= 0 and idx <= 24\n",
    "        try:\n",
    "            assert len(imgs) == self.size\n",
    "        except Exception:\n",
    "            imgs = imgs[:self.size,:]     ## if there are more images than labels, cut the images to approporiate size!\n",
    "        try:\n",
    "            assert len(labs) == self.size\n",
    "        except Exception:\n",
    "            labs = labs[:self.size,:]     \n",
    "\n",
    "        row_idx = idx//5\n",
    "        col_idx = idx%5\n",
    "        return imgs[:, row_idx*200:(row_idx+1)*200, col_idx*200:(col_idx+1)*200, :], labs[:, row_idx*200:(row_idx+1)*200, col_idx*200:(col_idx+1)*200, :]\n",
    "   \n",
    "    def burn_ratio(self, labs):\n",
    "        \"\"\"calculate the burn ratio in an area\"\"\"\n",
    "        ratio = np.zeros((labs.shape[0],))\n",
    "        for i in range(len(labs)):\n",
    "            ratio[i] = labs[i,:,:,:].mean()\n",
    "        return ratio\n",
    "\n",
    "    def binarize_risk(self, labs, thres=0.05):\n",
    "        #ratio = labs.sum(axis=-1).sum(axis=-1).sum(axis=-1)/(200*200)\n",
    "        ratio = self.burn_ratio(labs)\n",
    "        return (ratio>thres).astype(int)\n",
    "\n",
    "    def compile_zones(self):\n",
    "        \"\"\"concatenate all sector images based on selected index\"\"\"\n",
    "        \"\"\"Zone 0,0,0,0,0,0,0,0,0 .... Zone 1,1,1,1....\"\"\"\n",
    "        \"\"\"Normalize to (0, 1) !!!\"\"\"\n",
    "        imgs, labs = self.extract_single_zone(self.imgs, self.labs, idx=self.zone_idx[0])\n",
    "        for i in range(1, len(self.zone_idx)):\n",
    "            I, L = self.extract_single_zone(self.imgs, self.labs, idx=self.zone_idx[i])\n",
    "            imgs = np.concatenate([imgs, I], 0)\n",
    "            labs = np.concatenate([labs, L], 0)\n",
    "        imgs = imgs/imgs.max()\n",
    "        imgs = imgs.astype('float32')\n",
    "        return imgs, labs\n",
    "        \n",
    "    def prepare_step_data(self):\n",
    "        zoned_imgs, zoned_labs = self.compile_zones()\n",
    "        idx = np.array([i for i in range(len(zoned_imgs)) if i % self.size not in [self.size-2, self.size-1, self.size]])\n",
    "        imgs_0 = zoned_imgs[idx, :,:,:]\n",
    "        imgs_1 = zoned_imgs[idx+1, :,:,:]\n",
    "        imgs_2, labs = zoned_imgs[idx+2, :,:,:], self.binarize_risk(zoned_labs[idx+2])\n",
    "        return imgs_0, imgs_1, imgs_2, labs\n",
    "    "
   ]
  },
  {
   "cell_type": "code",
   "execution_count": 44,
   "metadata": {
    "scrolled": true
   },
   "outputs": [],
   "source": [
    "test_data = Data(imgs[1:], labs[1:])\n",
    "test_imgs_0, test_imgs_1, test_imgs_2, test_labs = test_data.prepare_step_data()\n"
   ]
  },
  {
   "cell_type": "code",
   "execution_count": 45,
   "metadata": {},
   "outputs": [
    {
     "data": {
      "text/plain": [
       "(75,)"
      ]
     },
     "execution_count": 45,
     "metadata": {},
     "output_type": "execute_result"
    }
   ],
   "source": [
    "test_labs.shape"
   ]
  },
  {
   "cell_type": "code",
   "execution_count": 50,
   "metadata": {},
   "outputs": [],
   "source": [
    "class Adjacency(object):\n",
    "    \"\"\"Only to extract burn ratio from label, no images, no binarized labels, burn ratio is the feature to extract\"\"\"\n",
    "    def __init__(self, labs, zone_idx=np.arange(25)):\n",
    "        self.labs = labs\n",
    "        self.size = len(labs)\n",
    "        self.zone_idx = zone_idx\n",
    "    \n",
    "    def extract_single_zone(self, labs, idx=0):\n",
    "        \"\"\"extract a single zone based on the index\"\"\"\n",
    "        assert idx >= 0 and idx <= 24\n",
    "        try:\n",
    "            assert len(labs) == self.size\n",
    "        except Exception:\n",
    "            labs = labs[:self.size,:]     \n",
    "        row_idx = idx//5\n",
    "        col_idx = idx%5\n",
    "        return labs[:, row_idx*200:(row_idx+1)*200, col_idx*200:(col_idx+1)*200, :]\n",
    "\n",
    "    def burn_ratio(self,labs):\n",
    "        \"\"\"calculate the burn ratio in an area\"\"\"\n",
    "        ratio = np.zeros((labs.shape[0],))\n",
    "        for i in range(len(labs)):\n",
    "            ratio[i] = labs[i,:,:,:].mean()\n",
    "        return ratio\n",
    "    \n",
    "    def binarize_risk(self,labs, thres=0.05):\n",
    "        ratio = labs.sum(axis=-1).sum(axis=-1).sum(axis=-1)/(200*200)\n",
    "        return (ratio>thres).astype(int)\n",
    "\n",
    "    def compile_zones(self):\n",
    "        \"\"\"concatenate all sector images based on selected index\"\"\"\n",
    "        \"\"\"Zone 0,0,0,0,0,0,0,0,0 .... Zone 1,1,1,1....\"\"\"\n",
    "        \"\"\"Normalize to (0, 1) !!!\"\"\"\n",
    "        labs = self.extract_single_zone(self.labs, idx=self.zone_idx[0])\n",
    "        for i in range(1, len(self.zone_idx)):\n",
    "            L = self.extract_single_zone(self.labs, idx=self.zone_idx[i])\n",
    "            labs = np.concatenate([labs, L], 0)\n",
    "        return labs\n",
    "\n",
    "    def prepare_step_data(self):\n",
    "        zoned_labs = self.compile_zones()\n",
    "        idx = np.array([i for i in range(len(zoned_labs)) if i % self.size not in [self.size-2, self.size-1, self.size]])\n",
    "        adj_0 = self.burn_ratio(zoned_labs[idx])\n",
    "        adj_1 = self.burn_ratio(zoned_labs[idx+1])\n",
    "        adj_2 = self.burn_ratio(zoned_labs[idx+2])\n",
    "        return adj_0, adj_1, adj_2\n",
    "    \n",
    "def extract_adjacency_feature(adjacency, indices=[np.arange(25)]):\n",
    "    \"\"\"\n",
    "    Function to extract adjacency features\n",
    "    indices must be in list format,\n",
    "    mode can be either trn_val or test\n",
    "    \"\"\"\n",
    "    names = ['south','southwest','west','northwest','north','northeast','east','southeast']\n",
    "    \n",
    "    def subset_adjacency(adjacency, which=0):\n",
    "        \"\"\"Extract adjacency feature based on 1 direction\"\"\"\n",
    "        name = names[which]\n",
    "        row = 200\n",
    "        col = 200\n",
    "        if 'south' in name:\n",
    "            row = 400\n",
    "        elif 'north' in name:\n",
    "            row = 0\n",
    "        if 'west' in name:\n",
    "            col = 0\n",
    "        elif 'east' in name:\n",
    "            col = 400\n",
    "        return adjacency[:,row:row+1000,col:col+1000,:]\n",
    "    \n",
    "    test_adj_0_list = []\n",
    "    test_adj_1_list = []\n",
    "    test_adj_2_list = []\n",
    "\n",
    "    test_idx = indices[0]\n",
    "    for i in tqdm_notebook(range(8)):\n",
    "        #adjacency_full = np.load('/content/gdrive/My Drive/adjacency.npz')['dnbr']\n",
    "        adj_s = subset_adjacency(adjacency, which=i)\n",
    "        adj_s = (adj_s>0.66).astype(int)\n",
    "        #adjacency = np.concatenate([np.zeros((1,1000,1000,1), dtype='int'), adjacency[:-1]],0)\n",
    "        \n",
    "        test_data = Adjacency(adj_s, zone_idx=test_idx)\n",
    "        del adj_s\n",
    "        gc.collect()\n",
    "        test_adj_0, test_adj_1, test_adj_2 = test_data.prepare_step_data()\n",
    "        del test_data\n",
    "        gc.collect()\n",
    "        test_adj_0_list.append(test_adj_0)\n",
    "        test_adj_1_list.append(test_adj_1)\n",
    "        test_adj_2_list.append(test_adj_2)\n",
    "\n",
    "    test_adj_0_list = np.column_stack(test_adj_0_list)\n",
    "    test_adj_1_list = np.column_stack(test_adj_1_list)\n",
    "    test_adj_2_list = np.column_stack(test_adj_2_list)\n",
    "\n",
    "    return test_adj_0_list, test_adj_1_list, test_adj_2_list\n",
    "    "
   ]
  },
  {
   "cell_type": "code",
   "execution_count": 62,
   "metadata": {},
   "outputs": [
    {
     "data": {
      "application/vnd.jupyter.widget-view+json": {
       "model_id": "c4ee5fc7045b46e5b2c78c2f13de159c",
       "version_major": 2,
       "version_minor": 0
      },
      "text/plain": [
       "HBox(children=(IntProgress(value=0, max=8), HTML(value='')))"
      ]
     },
     "metadata": {},
     "output_type": "display_data"
    }
   ],
   "source": [
    "test_adj_0, test_adj_1, test_adj_2 = extract_adjacency_feature(adjacency[:-1])\n"
   ]
  },
  {
   "cell_type": "code",
   "execution_count": 75,
   "metadata": {},
   "outputs": [
    {
     "data": {
      "text/html": [
       "<div>\n",
       "<style scoped>\n",
       "    .dataframe tbody tr th:only-of-type {\n",
       "        vertical-align: middle;\n",
       "    }\n",
       "\n",
       "    .dataframe tbody tr th {\n",
       "        vertical-align: top;\n",
       "    }\n",
       "\n",
       "    .dataframe thead th {\n",
       "        text-align: right;\n",
       "    }\n",
       "</style>\n",
       "<table border=\"1\" class=\"dataframe\">\n",
       "  <thead>\n",
       "    <tr style=\"text-align: right;\">\n",
       "      <th></th>\n",
       "      <th>temp</th>\n",
       "      <th>dewp</th>\n",
       "      <th>slp</th>\n",
       "      <th>visib</th>\n",
       "      <th>wdsp</th>\n",
       "      <th>mxpsd</th>\n",
       "      <th>max</th>\n",
       "      <th>min</th>\n",
       "      <th>prcp</th>\n",
       "      <th>rain_drizzle</th>\n",
       "      <th>date</th>\n",
       "    </tr>\n",
       "  </thead>\n",
       "  <tbody>\n",
       "    <tr>\n",
       "      <th>0</th>\n",
       "      <td>48.6</td>\n",
       "      <td>42.2</td>\n",
       "      <td>1027.6</td>\n",
       "      <td>999.9</td>\n",
       "      <td>8.0</td>\n",
       "      <td>8.9</td>\n",
       "      <td>58.8</td>\n",
       "      <td>43.0</td>\n",
       "      <td>0.00</td>\n",
       "      <td>0</td>\n",
       "      <td>2019-10-9</td>\n",
       "    </tr>\n",
       "    <tr>\n",
       "      <th>1</th>\n",
       "      <td>50.2</td>\n",
       "      <td>46.3</td>\n",
       "      <td>1013.7</td>\n",
       "      <td>8.7</td>\n",
       "      <td>8.0</td>\n",
       "      <td>15.9</td>\n",
       "      <td>60.6</td>\n",
       "      <td>47.7</td>\n",
       "      <td>0.47</td>\n",
       "      <td>1</td>\n",
       "      <td>2019-9-20</td>\n",
       "    </tr>\n",
       "    <tr>\n",
       "      <th>2</th>\n",
       "      <td>55.5</td>\n",
       "      <td>44.9</td>\n",
       "      <td>1024.2</td>\n",
       "      <td>999.9</td>\n",
       "      <td>10.7</td>\n",
       "      <td>15.9</td>\n",
       "      <td>64.2</td>\n",
       "      <td>48.0</td>\n",
       "      <td>0.00</td>\n",
       "      <td>0</td>\n",
       "      <td>2019-4-17</td>\n",
       "    </tr>\n",
       "    <tr>\n",
       "      <th>3</th>\n",
       "      <td>56.3</td>\n",
       "      <td>53.0</td>\n",
       "      <td>1028.9</td>\n",
       "      <td>999.9</td>\n",
       "      <td>8.4</td>\n",
       "      <td>13.0</td>\n",
       "      <td>64.0</td>\n",
       "      <td>50.2</td>\n",
       "      <td>0.00</td>\n",
       "      <td>0</td>\n",
       "      <td>2019-5-15</td>\n",
       "    </tr>\n",
       "    <tr>\n",
       "      <th>4</th>\n",
       "      <td>55.9</td>\n",
       "      <td>42.9</td>\n",
       "      <td>1018.7</td>\n",
       "      <td>999.9</td>\n",
       "      <td>16.6</td>\n",
       "      <td>18.1</td>\n",
       "      <td>58.1</td>\n",
       "      <td>40.1</td>\n",
       "      <td>0.00</td>\n",
       "      <td>0</td>\n",
       "      <td>2019-8-30</td>\n",
       "    </tr>\n",
       "  </tbody>\n",
       "</table>\n",
       "</div>"
      ],
      "text/plain": [
       "   temp  dewp     slp  visib  wdsp  mxpsd   max   min  prcp  rain_drizzle  \\\n",
       "0  48.6  42.2  1027.6  999.9   8.0    8.9  58.8  43.0  0.00             0   \n",
       "1  50.2  46.3  1013.7    8.7   8.0   15.9  60.6  47.7  0.47             1   \n",
       "2  55.5  44.9  1024.2  999.9  10.7   15.9  64.2  48.0  0.00             0   \n",
       "3  56.3  53.0  1028.9  999.9   8.4   13.0  64.0  50.2  0.00             0   \n",
       "4  55.9  42.9  1018.7  999.9  16.6   18.1  58.1  40.1  0.00             0   \n",
       "\n",
       "        date  \n",
       "0  2019-10-9  \n",
       "1  2019-9-20  \n",
       "2  2019-4-17  \n",
       "3  2019-5-15  \n",
       "4  2019-8-30  "
      ]
     },
     "execution_count": 75,
     "metadata": {},
     "output_type": "execute_result"
    }
   ],
   "source": [
    "gsod = pd.read_csv('/Users/jincui/Downloads/fc_gsod_2019_2020.csv')[['year','mo','da','temp','dewp','slp','visib','wdsp','mxpsd','max','min','prcp','rain_drizzle']]\n",
    "gsod['date'] = gsod['year'].map(str) + '-' + gsod['mo'].map(str) + '-' + gsod['da'].map(str) \n",
    "gsod = gsod.drop(['year','mo','da'],1)\n",
    "gsod.head()"
   ]
  },
  {
   "cell_type": "code",
   "execution_count": 79,
   "metadata": {},
   "outputs": [],
   "source": [
    "rqd_dates = ['2019-12-31','2020-1-1','2020-1-2','2020-1-3','2020-1-4',\n",
    "             '2020-1-5', '2020-1-6', '2020-1-7', '2020-1-8', '2020-1-9',\n",
    "             '2020-1-15','2020-1-16','2020-1-17','2020-1-18','2020-1-19',\n",
    "             '2020-1-20','2020-1-21','2020-1-22','2020-1-23','2020-1-24',             \n",
    "             '2020-1-25'\n",
    "            ]"
   ]
  },
  {
   "cell_type": "code",
   "execution_count": 87,
   "metadata": {
    "collapsed": true
   },
   "outputs": [
    {
     "name": "stderr",
     "output_type": "stream",
     "text": [
      "/usr/local/lib/python3.7/site-packages/ipykernel_launcher.py:2: SettingWithCopyWarning: \n",
      "A value is trying to be set on a copy of a slice from a DataFrame\n",
      "\n",
      "See the caveats in the documentation: http://pandas.pydata.org/pandas-docs/stable/indexing.html#indexing-view-versus-copy\n",
      "  \n",
      "/usr/local/lib/python3.7/site-packages/ipykernel_launcher.py:3: SettingWithCopyWarning: \n",
      "A value is trying to be set on a copy of a slice from a DataFrame\n",
      "\n",
      "See the caveats in the documentation: http://pandas.pydata.org/pandas-docs/stable/indexing.html#indexing-view-versus-copy\n",
      "  This is separate from the ipykernel package so we can avoid doing imports until\n"
     ]
    }
   ],
   "source": [
    "gsod_s = gsod[gsod['date'].isin(rqd_dates)].sort_values(by='date')\n",
    "gsod_s['dewp'][gsod_s['dewp']>9999] = 47.9\n",
    "gsod_s['visib'][gsod_s['visib']>999] = 11.5"
   ]
  },
  {
   "cell_type": "code",
   "execution_count": 104,
   "metadata": {},
   "outputs": [],
   "source": [
    "### have to manually sort them\n",
    "#gsod_s.to_csv('test_set_gsod.csv')"
   ]
  },
  {
   "cell_type": "code",
   "execution_count": 108,
   "metadata": {},
   "outputs": [
    {
     "data": {
      "text/html": [
       "<div>\n",
       "<style scoped>\n",
       "    .dataframe tbody tr th:only-of-type {\n",
       "        vertical-align: middle;\n",
       "    }\n",
       "\n",
       "    .dataframe tbody tr th {\n",
       "        vertical-align: top;\n",
       "    }\n",
       "\n",
       "    .dataframe thead th {\n",
       "        text-align: right;\n",
       "    }\n",
       "</style>\n",
       "<table border=\"1\" class=\"dataframe\">\n",
       "  <thead>\n",
       "    <tr style=\"text-align: right;\">\n",
       "      <th></th>\n",
       "      <th>temp</th>\n",
       "      <th>dewp</th>\n",
       "      <th>slp</th>\n",
       "      <th>visib</th>\n",
       "      <th>wdsp</th>\n",
       "      <th>mxpsd</th>\n",
       "      <th>max</th>\n",
       "      <th>min</th>\n",
       "      <th>prcp</th>\n",
       "      <th>rain_drizzle</th>\n",
       "      <th>date</th>\n",
       "    </tr>\n",
       "  </thead>\n",
       "  <tbody>\n",
       "    <tr>\n",
       "      <th>0</th>\n",
       "      <td>61.2</td>\n",
       "      <td>49.7</td>\n",
       "      <td>1016.6</td>\n",
       "      <td>11.5</td>\n",
       "      <td>8.2</td>\n",
       "      <td>12.0</td>\n",
       "      <td>68.7</td>\n",
       "      <td>55.8</td>\n",
       "      <td>0.0</td>\n",
       "      <td>0</td>\n",
       "      <td>12/31/19</td>\n",
       "    </tr>\n",
       "    <tr>\n",
       "      <th>1</th>\n",
       "      <td>62.2</td>\n",
       "      <td>52.6</td>\n",
       "      <td>1018.8</td>\n",
       "      <td>11.5</td>\n",
       "      <td>9.1</td>\n",
       "      <td>11.1</td>\n",
       "      <td>71.4</td>\n",
       "      <td>52.7</td>\n",
       "      <td>0.0</td>\n",
       "      <td>0</td>\n",
       "      <td>1/1/20</td>\n",
       "    </tr>\n",
       "    <tr>\n",
       "      <th>2</th>\n",
       "      <td>70.0</td>\n",
       "      <td>50.2</td>\n",
       "      <td>1012.4</td>\n",
       "      <td>11.5</td>\n",
       "      <td>11.9</td>\n",
       "      <td>18.1</td>\n",
       "      <td>77.4</td>\n",
       "      <td>52.5</td>\n",
       "      <td>0.0</td>\n",
       "      <td>0</td>\n",
       "      <td>1/2/20</td>\n",
       "    </tr>\n",
       "    <tr>\n",
       "      <th>3</th>\n",
       "      <td>70.4</td>\n",
       "      <td>52.9</td>\n",
       "      <td>1008.3</td>\n",
       "      <td>11.5</td>\n",
       "      <td>14.6</td>\n",
       "      <td>21.0</td>\n",
       "      <td>89.4</td>\n",
       "      <td>57.9</td>\n",
       "      <td>0.0</td>\n",
       "      <td>0</td>\n",
       "      <td>1/3/20</td>\n",
       "    </tr>\n",
       "    <tr>\n",
       "      <th>4</th>\n",
       "      <td>57.7</td>\n",
       "      <td>50.0</td>\n",
       "      <td>1019.5</td>\n",
       "      <td>11.5</td>\n",
       "      <td>10.8</td>\n",
       "      <td>13.0</td>\n",
       "      <td>62.8</td>\n",
       "      <td>52.7</td>\n",
       "      <td>0.0</td>\n",
       "      <td>0</td>\n",
       "      <td>1/4/20</td>\n",
       "    </tr>\n",
       "  </tbody>\n",
       "</table>\n",
       "</div>"
      ],
      "text/plain": [
       "   temp  dewp     slp  visib  wdsp  mxpsd   max   min  prcp  rain_drizzle  \\\n",
       "0  61.2  49.7  1016.6   11.5   8.2   12.0  68.7  55.8   0.0             0   \n",
       "1  62.2  52.6  1018.8   11.5   9.1   11.1  71.4  52.7   0.0             0   \n",
       "2  70.0  50.2  1012.4   11.5  11.9   18.1  77.4  52.5   0.0             0   \n",
       "3  70.4  52.9  1008.3   11.5  14.6   21.0  89.4  57.9   0.0             0   \n",
       "4  57.7  50.0  1019.5   11.5  10.8   13.0  62.8  52.7   0.0             0   \n",
       "\n",
       "       date  \n",
       "0  12/31/19  \n",
       "1    1/1/20  \n",
       "2    1/2/20  \n",
       "3    1/3/20  \n",
       "4    1/4/20  "
      ]
     },
     "execution_count": 108,
     "metadata": {},
     "output_type": "execute_result"
    }
   ],
   "source": [
    "gsod_s = pd.read_csv('test_set_gsod.csv')\n",
    "gsod_s.head()"
   ]
  },
  {
   "cell_type": "code",
   "execution_count": 136,
   "metadata": {},
   "outputs": [],
   "source": [
    "day_0 = gsod_s[gsod_s['date'].isin(['12/31/19', '1/5/20', '1/15/20', '1/20/20','1/25/20'])]\n",
    "day_1 = gsod_s[gsod_s['date'].isin(['1/1/20', '1/6/20', '1/16/20', '1/21/20'])]\n",
    "day_2 = gsod_s[gsod_s['date'].isin(['1/2/20', '1/7/20', '1/17/20', '1/22/20'])]\n",
    "day_3 = gsod_s[gsod_s['date'].isin(['1/3/20', '1/8/20', '1/18/20', '1/23/20'])]\n",
    "day_4 = gsod_s[gsod_s['date'].isin(['1/4/20', '1/9/20', '1/19/20', '1/24/20'])]\n",
    "\n",
    "day_0.columns = [*map(lambda t:t+'_0' if t!='date' else t, day_0.columns)]\n",
    "day_1.columns = [*map(lambda t:t+'_1' if t!='date' else t, day_1.columns)]\n",
    "day_2.columns = [*map(lambda t:t+'_2' if t!='date' else t, day_2.columns)]\n",
    "day_3.columns = [*map(lambda t:t+'_3' if t!='date' else t, day_3.columns)]\n",
    "day_4.columns = [*map(lambda t:t+'_4' if t!='date' else t, day_4.columns)]\n",
    "\n",
    "\n",
    "day_0 = day_0.reset_index(drop=True)\n",
    "day_1 = day_1.reset_index(drop=True)\n",
    "day_2 = day_2.reset_index(drop=True)\n",
    "day_3 = day_3.reset_index(drop=True)\n",
    "day_4 = day_4.reset_index(drop=True)\n",
    "\n",
    "day_0 = day_0.drop(['date'],1)\n",
    "day_1 = day_1.drop(['date'],1)\n",
    "day_2 = day_2.drop(['date'],1)\n",
    "day_3 = day_3.drop(['date'],1)\n",
    "day_4 = day_4.drop(['date'],1)\n"
   ]
  },
  {
   "cell_type": "code",
   "execution_count": null,
   "metadata": {},
   "outputs": [],
   "source": []
  },
  {
   "cell_type": "code",
   "execution_count": 139,
   "metadata": {
    "scrolled": true
   },
   "outputs": [
    {
     "data": {
      "text/plain": [
       "temp_0              84.90\n",
       "dewp_0              58.00\n",
       "slp_0             1035.30\n",
       "visib_0             20.20\n",
       "wdsp_0              22.60\n",
       "mxpsd_0             28.00\n",
       "max_0               96.60\n",
       "min_0               72.50\n",
       "prcp_0               0.83\n",
       "rain_drizzle_0       1.00\n",
       "temp_1              87.80\n",
       "dewp_1              60.20\n",
       "slp_1             1036.90\n",
       "visib_1             21.70\n",
       "wdsp_1              23.90\n",
       "mxpsd_1             35.90\n",
       "max_1               96.30\n",
       "min_1               68.40\n",
       "prcp_1               1.02\n",
       "rain_drizzle_1       1.00\n",
       "temp_2              83.10\n",
       "dewp_2              65.10\n",
       "slp_2             1035.20\n",
       "visib_2             20.20\n",
       "wdsp_2              23.90\n",
       "mxpsd_2             29.90\n",
       "max_2              102.90\n",
       "min_2               67.30\n",
       "prcp_2               0.79\n",
       "rain_drizzle_2       1.00\n",
       "temp_3              91.40\n",
       "dewp_3              63.40\n",
       "slp_3             1036.00\n",
       "visib_3             18.60\n",
       "wdsp_3              22.20\n",
       "mxpsd_3             28.00\n",
       "max_3              102.40\n",
       "min_3               84.00\n",
       "prcp_3               0.51\n",
       "rain_drizzle_3       1.00\n",
       "temp_4              81.00\n",
       "dewp_4              68.00\n",
       "slp_4             1035.00\n",
       "visib_4             23.30\n",
       "wdsp_4              22.30\n",
       "mxpsd_4             28.90\n",
       "max_4               98.80\n",
       "min_4               66.40\n",
       "prcp_4               0.71\n",
       "rain_drizzle_4       1.00\n",
       "dtype: float64"
      ]
     },
     "execution_count": 139,
     "metadata": {},
     "output_type": "execute_result"
    }
   ],
   "source": [
    "x = pd.read_csv('flinders_chase_clean_5day.csv')\n",
    "x.max()"
   ]
  },
  {
   "cell_type": "code",
   "execution_count": 142,
   "metadata": {},
   "outputs": [],
   "source": [
    "test_gsod_final = pd.concat([day_0,day_1,day_2,day_3,day_4],1)\n",
    "test_gsod_final = test_gsod_final/x.max()\n",
    "\n",
    "test_gsod_final.to_csv('test_gsod_final.csv',index=False)"
   ]
  },
  {
   "cell_type": "code",
   "execution_count": null,
   "metadata": {},
   "outputs": [],
   "source": []
  },
  {
   "cell_type": "code",
   "execution_count": 66,
   "metadata": {},
   "outputs": [],
   "source": [
    "np.savez_compressed('/Users/jincui/Downloads/test_data', \n",
    "                    test_imgs_0=test_imgs_0, test_imgs_1=test_imgs_1, test_imgs_2=test_imgs_2,\n",
    "                    test_adj_0=test_adj_0, test_adj_1=test_adj_1, test_adj_2=test_adj_2,\n",
    "                    test_lab=test_labs\n",
    "                   )"
   ]
  },
  {
   "cell_type": "code",
   "execution_count": 143,
   "metadata": {},
   "outputs": [],
   "source": [
    "test_preds_0 = np.load('/Users/jincui/Downloads/test_preds_0.npy')\n",
    "test_preds_1 = np.load('/Users/jincui/Downloads/test_preds_1.npy')\n",
    "test_preds_2 = np.load('/Users/jincui/Downloads/test_preds_2.npy')\n",
    "test_preds_3 = np.load('/Users/jincui/Downloads/test_preds_3.npy')\n",
    "test_preds_4 = np.load('/Users/jincui/Downloads/test_preds_4.npy')\n"
   ]
  },
  {
   "cell_type": "code",
   "execution_count": 147,
   "metadata": {},
   "outputs": [
    {
     "data": {
      "text/plain": [
       "array([0.840253  , 0.9302212 , 0.01128374, 0.8851005 , 0.965022  ,\n",
       "       0.00595178, 0.8598493 , 0.43754473, 0.01117484, 0.5447962 ,\n",
       "       0.14422469, 0.00254124, 0.9303482 , 0.4908762 , 0.01920432,\n",
       "       0.8296928 , 0.6796395 , 0.54820204, 0.8528177 , 0.67073864,\n",
       "       0.20249338, 0.75870913, 0.3873553 , 0.00918862, 0.67475396,\n",
       "       0.20742245, 0.01386807, 0.7860603 , 0.27197298, 0.19932497,\n",
       "       0.88314736, 0.12063827, 0.20329659, 0.8695542 , 0.20982201,\n",
       "       0.34265053, 0.8486245 , 0.28928065, 0.18203793, 0.8554104 ,\n",
       "       0.2620772 , 0.09301674, 0.8721229 , 0.27399397, 0.20236953,\n",
       "       0.8960096 , 0.03314256, 0.20321147, 0.8842315 , 0.03665832,\n",
       "       0.20319319, 0.86486286, 0.31197396, 0.20229542, 0.8951492 ,\n",
       "       0.2997783 , 0.20265113, 0.94117016, 0.25459442, 0.20293887,\n",
       "       0.97304153, 0.22141123, 0.9617333 , 0.9007109 , 0.9686697 ,\n",
       "       0.757399  , 0.9316972 , 0.6137701 , 0.78414226, 0.89369076,\n",
       "       0.09957247, 0.5431736 , 0.91514677, 0.15515755, 0.69162947],\n",
       "      dtype=float32)"
      ]
     },
     "execution_count": 147,
     "metadata": {},
     "output_type": "execute_result"
    }
   ],
   "source": [
    "test_preds_mean = 0.2*(test_preds_0+test_preds_1+test_preds_2+test_preds_3+test_preds_4)\n",
    "test_preds_mean"
   ]
  },
  {
   "cell_type": "code",
   "execution_count": 149,
   "metadata": {},
   "outputs": [
    {
     "name": "stdout",
     "output_type": "stream",
     "text": [
      "0.9333333333333333\n",
      "0.9295774647887325\n",
      "0.953757225433526\n",
      "0.9620991253644315\n",
      "0.9655765920826161\n",
      "0.866500533997864\n",
      "0.9705882352941176\n",
      "0.8918918918918919\n"
     ]
    }
   ],
   "source": [
    "from sklearn.metrics import accuracy_score, f1_score, recall_score, precision_score, fbeta_score, cohen_kappa_score\n",
    "\n",
    "print(accuracy_score(test_labs, test_preds_mean.round().flatten()))\n",
    "print(f1_score(test_labs, test_preds_mean.round().flatten()))\n",
    "print(fbeta_score(test_labs, test_preds_mean.round().flatten(),2))\n",
    "print(fbeta_score(test_labs, test_preds_mean.round().flatten(),3))\n",
    "print(fbeta_score(test_labs, test_preds_mean.round().flatten(),4))\n",
    "print(cohen_kappa_score(test_labs, test_preds_mean.round().flatten()))\n",
    "print(recall_score(test_labs, test_preds_mean.round().flatten()))\n",
    "print(precision_score(test_labs, test_preds_mean.round().flatten()))\n"
   ]
  },
  {
   "cell_type": "code",
   "execution_count": null,
   "metadata": {},
   "outputs": [],
   "source": []
  },
  {
   "cell_type": "code",
   "execution_count": null,
   "metadata": {},
   "outputs": [],
   "source": []
  },
  {
   "cell_type": "code",
   "execution_count": null,
   "metadata": {},
   "outputs": [],
   "source": []
  },
  {
   "cell_type": "code",
   "execution_count": null,
   "metadata": {},
   "outputs": [],
   "source": []
  },
  {
   "cell_type": "code",
   "execution_count": 33,
   "metadata": {},
   "outputs": [],
   "source": []
  },
  {
   "cell_type": "code",
   "execution_count": 34,
   "metadata": {},
   "outputs": [],
   "source": [
    "smooth = 1e-5\n",
    "b08 = imgs[:,:,:,7:8] \n",
    "b12 = imgs[:,:,:,11:12]\n",
    "nbr = (b08-b12+smooth)/(b08+b12+smooth)\n",
    "\n",
    "dnbr = np.zeros((5,1000,1000,1))\n",
    "for i in range(5):\n",
    "    dnbr[i,:] = nbr[i+1,:] - nbr[i,:]"
   ]
  },
  {
   "cell_type": "code",
   "execution_count": 35,
   "metadata": {},
   "outputs": [
    {
     "data": {
      "text/plain": [
       "(5, 1000, 1000, 1)"
      ]
     },
     "execution_count": 35,
     "metadata": {},
     "output_type": "execute_result"
    }
   ],
   "source": [
    "dnbr.shape"
   ]
  },
  {
   "cell_type": "code",
   "execution_count": 37,
   "metadata": {},
   "outputs": [],
   "source": [
    "#np.savez_compressed('test_data', exp_dnbr=exp_dnbr, imgs=imgs, dnbr=dnbr)\n"
   ]
  },
  {
   "cell_type": "code",
   "execution_count": null,
   "metadata": {},
   "outputs": [],
   "source": []
  },
  {
   "cell_type": "code",
   "execution_count": null,
   "metadata": {},
   "outputs": [],
   "source": [
    "### Generate test set gsod features\n",
    "local_records_day_0 = pd.read_csv('/Users/jincui/Downloads/landsat_analysis/fc_day_0.csv').drop(['date'],1)\n",
    "local_records_day_1 = pd.read_csv('/Users/jincui/Downloads/landsat_analysis/fc_day_1.csv').drop(['date'],1)\n",
    "local_records_day_2 = pd.read_csv('/Users/jincui/Downloads/landsat_analysis/fc_day_2.csv').drop(['date'],1)\n",
    "local_records_day_3 = pd.read_csv('/Users/jincui/Downloads/landsat_analysis/fc_day_3.csv').drop(['date'],1)\n",
    "local_records_day_4 = pd.read_csv('/Users/jincui/Downloads/landsat_analysis/fc_day_4.csv').drop(['date'],1)\n",
    "\n",
    "local_records_day_0.columns = [*map(lambda t: t+'_0', local_records_day_0.columns)]\n",
    "local_records_day_1.columns = [*map(lambda t: t+'_1', local_records_day_1.columns)]\n",
    "local_records_day_2.columns = [*map(lambda t: t+'_2', local_records_day_2.columns)]\n",
    "local_records_day_3.columns = [*map(lambda t: t+'_3', local_records_day_3.columns)]\n",
    "local_records_day_4.columns = [*map(lambda t: t+'_4', local_records_day_4.columns)]\n",
    "gsod_5day = pd.concat([local_records_day_0.iloc[-2:,:],\n",
    "           local_records_day_1.iloc[-2:,:], \n",
    "           local_records_day_2.iloc[-2:,:], \n",
    "           local_records_day_3.iloc[-2:,:], \n",
    "           local_records_day_4.iloc[-2:,:]\n",
    "          ],1)\n",
    "\n",
    "# Had to manuall fill in some weather data from https://www.ncei.noaa.gov/data/global-summary-of-the-day/access/2020/\n",
    "##gsod_5day.to_csv('test_gsod_features.csv', index=False)"
   ]
  },
  {
   "cell_type": "code",
   "execution_count": 83,
   "metadata": {},
   "outputs": [
    {
     "data": {
      "text/plain": [
       "(2, 1000, 1000, 1)"
      ]
     },
     "execution_count": 83,
     "metadata": {},
     "output_type": "execute_result"
    }
   ],
   "source": [
    "labs = (dnbr[3:,:,:,:]>0.66).astype(int)\n",
    "labs.shape"
   ]
  },
  {
   "cell_type": "code",
   "execution_count": 84,
   "metadata": {},
   "outputs": [
    {
     "data": {
      "application/vnd.jupyter.widget-view+json": {
       "model_id": "8561b9803d60489e952c4f24411d8134",
       "version_major": 2,
       "version_minor": 0
      },
      "text/plain": [
       "HBox(children=(IntProgress(value=0, max=25), HTML(value='')))"
      ]
     },
     "metadata": {},
     "output_type": "display_data"
    }
   ],
   "source": [
    "zones_labs = []\n",
    "for i in range(25):\n",
    "    row_idx = (i//5)*200\n",
    "    col_idx = (i%5)*200\n",
    "    zones_labs.append(labs[:,row_idx:row_idx+200,col_idx:col_idx+200,0])\n",
    "zones_risk = np.array([*map(lambda t:(t.sum(axis=-1).sum(axis=-1) >= (0.05*200*200)).astype(int), zones_labs)])\n",
    "zones_risk = np.swapaxes(zones_risk,0,1)\n",
    "\n",
    "risks = np.zeros(labs.shape)\n",
    "from tqdm import tqdm_notebook\n",
    "for i in tqdm_notebook(range(25)):\n",
    "    row_idx = (i//5)*200\n",
    "    col_idx = (i%5)*200\n",
    "    for j in range(len(labs)):\n",
    "        if labs[j,row_idx:row_idx+200,col_idx:col_idx+200,0].sum() >= 0.05*200*200:\n",
    "            risks[j,row_idx:row_idx+200,col_idx:col_idx+200,0] = 1"
   ]
  },
  {
   "cell_type": "code",
   "execution_count": 99,
   "metadata": {},
   "outputs": [
    {
     "data": {
      "text/plain": [
       "Text(0.5, 1.0, 'Predicted labels\\n F2 score: 0.278')"
      ]
     },
     "execution_count": 99,
     "metadata": {},
     "output_type": "execute_result"
    },
    {
     "data": {
      "image/png": "[encoded data removed]",
      "text/plain": [
       "<Figure size 1296x1728 with 8 Axes>"
      ]
     },
     "metadata": {
      "needs_background": "light"
     },
     "output_type": "display_data"
    }
   ],
   "source": [
    "title_fontsize = 15\n",
    "plt.figure(figsize=(18,24))\n",
    "\n",
    "plt.subplot(3,2,1)\n",
    "plt.grid()\n",
    "plt.imshow(labs[0,:,:,0], cmap='Greys_r', vmin=0, vmax=1)\n",
    "plt.title(f\"Burnt (dNBR>0.66) area: {(100*(labs[0,:,:,0].sum())/(1000*1000)).round(2)}%\", fontsize=title_fontsize)\n",
    "plt.subplot(3,2,2)\n",
    "plt.grid()\n",
    "plt.imshow(labs[1,:,:,0], cmap='Greys_r', vmin=0, vmax=1)\n",
    "plt.title(f\"Burnt (dNBR>0.66) area: {(100*(labs[1,:,:,0].sum())/(1000*1000)).round(2)}%\", fontsize=title_fontsize)\n",
    "\n",
    "\n",
    "plt.subplot(3,2,3)\n",
    "plt.grid()\n",
    "plt.imshow(risks[0,:,:,0], cmap='Greys_r', vmin=0, vmax=1)\n",
    "plt.title(f\"True labels\\nHigh-risk (>=5% ground burnt) sectors: {zones_risk[0].sum()}\", fontsize=title_fontsize)\n",
    "plt.subplot(3,2,4)\n",
    "plt.grid()\n",
    "plt.imshow(risks[1,:,:,0], cmap='Greys_r', vmin=0, vmax=1)\n",
    "plt.title(f\"True labels\\nHigh-risk (>=5% ground burnt) sectors: {zones_risk[1].sum()}\", fontsize=title_fontsize)\n",
    "\n",
    "\n",
    "plt.subplot(3,2,5)\n",
    "cm = preds[0,:]\n",
    "annot = preds[0,:].round(3)\n",
    "sns.heatmap(cm, annot=annot, annot_kws={\"size\": 12}, cmap=\"Greys_r\", cbar=True, vmin=0, vmax=1,\n",
    "            yticklabels=False, xticklabels=False)\n",
    "plt.title(f\"Predicted labels\\n F2 score: {fbeta_score(zones_risk[0,:], (preds[0,:]>0.5).flatten().astype(int), 2).round(3)}\", fontsize=title_fontsize)\n",
    "\n",
    "plt.subplot(3,2,6)\n",
    "cm = preds[1,:]\n",
    "annot = preds[1,:].round(3)\n",
    "sns.heatmap(cm, annot=annot, annot_kws={\"size\": 12}, cmap=\"Greys_r\", cbar=True, vmin=0, vmax=1,\n",
    "            yticklabels=False, xticklabels=False)\n",
    "plt.title(f\"Predicted labels\\n F2 score: {fbeta_score(zones_risk[1,:], (preds[1,:]>0.5).flatten().astype(int), 2).round(3)}\", fontsize=title_fontsize)\n"
   ]
  },
  {
   "cell_type": "code",
   "execution_count": 107,
   "metadata": {},
   "outputs": [],
   "source": [
    "l = ['2018-02','2018-03']"
   ]
  },
  {
   "cell_type": "code",
   "execution_count": 109,
   "metadata": {},
   "outputs": [
    {
     "data": {
      "text/plain": [
       "['2018-03', '2018-02']"
      ]
     },
     "execution_count": 109,
     "metadata": {},
     "output_type": "execute_result"
    }
   ],
   "source": [
    "sorted(l, reverse=True)"
   ]
  },
  {
   "cell_type": "code",
   "execution_count": 114,
   "metadata": {},
   "outputs": [
    {
     "name": "stdout",
     "output_type": "stream",
     "text": [
      "Copying gs://gcp-public-data-sentinel-2/tiles/53/H/PA/S2B_MSIL1C_20200130T004659_N0208_R102_T53HPA_20200130T020548.SAFE/DATASTRIP/DS_SGS__20200130T020548_S20200130T005534/MTD_DS.xml...\n",
      "Copying gs://gcp-public-data-sentinel-2/tiles/53/H/PA/S2B_MSIL1C_20200130T004659_N0208_R102_T53HPA_20200130T020548.SAFE/DATASTRIP/DS_SGS__20200130T020548_S20200130T005534/QI_DATA/FORMAT_CORRECTNESS.xml...\n",
      "Copying gs://gcp-public-data-sentinel-2/tiles/53/H/PA/S2B_MSIL1C_20200130T004659_N0208_R102_T53HPA_20200130T020548.SAFE/DATASTRIP/DS_SGS__20200130T020548_S20200130T005534/QI_DATA/GENERAL_QUALITY.xml...\n",
      "\\ [3 files][  5.8 MiB/  5.8 MiB]                                                \n",
      "==> NOTE: You are performing a sequence of gsutil operations that may\n",
      "run significantly faster if you instead use gsutil -m cp ... Please\n",
      "see the -m section under \"gsutil help options\" for further information\n",
      "about when gsutil -m can be advantageous.\n",
      "\n",
      "Copying gs://gcp-public-data-sentinel-2/tiles/53/H/PA/S2B_MSIL1C_20200130T004659_N0208_R102_T53HPA_20200130T020548.SAFE/DATASTRIP/DS_SGS__20200130T020548_S20200130T005534/QI_DATA/GEOMETRIC_QUALITY.xml...\n",
      "Copying gs://gcp-public-data-sentinel-2/tiles/53/H/PA/S2B_MSIL1C_20200130T004659_N0208_R102_T53HPA_20200130T020548.SAFE/DATASTRIP/DS_SGS__20200130T020548_S20200130T005534/QI_DATA/RADIOMETRIC_QUALITY.xml...\n",
      "Copying gs://gcp-public-data-sentinel-2/tiles/53/H/PA/S2B_MSIL1C_20200130T004659_N0208_R102_T53HPA_20200130T020548.SAFE/DATASTRIP/DS_SGS__20200130T020548_S20200130T005534/QI_DATA/SENSOR_QUALITY.xml...\n",
      "Copying gs://gcp-public-data-sentinel-2/tiles/53/H/PA/S2B_MSIL1C_20200130T004659_N0208_R102_T53HPA_20200130T020548.SAFE/GRANULE/L1C_T53HPA_A015143_20200130T005534/AUX_DATA/AUX_ECMWFT...\n",
      "Copying gs://gcp-public-data-sentinel-2/tiles/53/H/PA/S2B_MSIL1C_20200130T004659_N0208_R102_T53HPA_20200130T020548.SAFE/GRANULE/L1C_T53HPA_A015143_20200130T005534/IMG_DATA/T53HPA_20200130T004659_B01.jp2...\n",
      "Copying gs://gcp-public-data-sentinel-2/tiles/53/H/PA/S2B_MSIL1C_20200130T004659_N0208_R102_T53HPA_20200130T020548.SAFE/GRANULE/L1C_T53HPA_A015143_20200130T005534/IMG_DATA/T53HPA_20200130T004659_B02.jp2...\n",
      "Copying gs://gcp-public-data-sentinel-2/tiles/53/H/PA/S2B_MSIL1C_20200130T004659_N0208_R102_T53HPA_20200130T020548.SAFE/GRANULE/L1C_T53HPA_A015143_20200130T005534/IMG_DATA/T53HPA_20200130T004659_B03.jp2...\n",
      "Copying gs://gcp-public-data-sentinel-2/tiles/53/H/PA/S2B_MSIL1C_20200130T004659_N0208_R102_T53HPA_20200130T020548.SAFE/GRANULE/L1C_T53HPA_A015143_20200130T005534/IMG_DATA/T53HPA_20200130T004659_B04.jp2...\n",
      "Copying gs://gcp-public-data-sentinel-2/tiles/53/H/PA/S2B_MSIL1C_20200130T004659_N0208_R102_T53HPA_20200130T020548.SAFE/GRANULE/L1C_T53HPA_A015143_20200130T005534/IMG_DATA/T53HPA_20200130T004659_B05.jp2...\n",
      "Copying gs://gcp-public-data-sentinel-2/tiles/53/H/PA/S2B_MSIL1C_20200130T004659_N0208_R102_T53HPA_20200130T020548.SAFE/GRANULE/L1C_T53HPA_A015143_20200130T005534/IMG_DATA/T53HPA_20200130T004659_B06.jp2...\n",
      "Copying gs://gcp-public-data-sentinel-2/tiles/53/H/PA/S2B_MSIL1C_20200130T004659_N0208_R102_T53HPA_20200130T020548.SAFE/GRANULE/L1C_T53HPA_A015143_20200130T005534/IMG_DATA/T53HPA_20200130T004659_B07.jp2...\n",
      "Copying gs://gcp-public-data-sentinel-2/tiles/53/H/PA/S2B_MSIL1C_20200130T004659_N0208_R102_T53HPA_20200130T020548.SAFE/GRANULE/L1C_T53HPA_A015143_20200130T005534/IMG_DATA/T53HPA_20200130T004659_B08.jp2...\n",
      "Copying gs://gcp-public-data-sentinel-2/tiles/53/H/PA/S2B_MSIL1C_20200130T004659_N0208_R102_T53HPA_20200130T020548.SAFE/GRANULE/L1C_T53HPA_A015143_20200130T005534/IMG_DATA/T53HPA_20200130T004659_B09.jp2...\n",
      "Copying gs://gcp-public-data-sentinel-2/tiles/53/H/PA/S2B_MSIL1C_20200130T004659_N0208_R102_T53HPA_20200130T020548.SAFE/GRANULE/L1C_T53HPA_A015143_20200130T005534/IMG_DATA/T53HPA_20200130T004659_B10.jp2...\n",
      "Copying gs://gcp-public-data-sentinel-2/tiles/53/H/PA/S2B_MSIL1C_20200130T004659_N0208_R102_T53HPA_20200130T020548.SAFE/GRANULE/L1C_T53HPA_A015143_20200130T005534/IMG_DATA/T53HPA_20200130T004659_B11.jp2...\n",
      "Copying gs://gcp-public-data-sentinel-2/tiles/53/H/PA/S2B_MSIL1C_20200130T004659_N0208_R102_T53HPA_20200130T020548.SAFE/GRANULE/L1C_T53HPA_A015143_20200130T005534/IMG_DATA/T53HPA_20200130T004659_B12.jp2...\n",
      "Copying gs://gcp-public-data-sentinel-2/tiles/53/H/PA/S2B_MSIL1C_20200130T004659_N0208_R102_T53HPA_20200130T020548.SAFE/GRANULE/L1C_T53HPA_A015143_20200130T005534/IMG_DATA/T53HPA_20200130T004659_B8A.jp2...\n",
      "Copying gs://gcp-public-data-sentinel-2/tiles/53/H/PA/S2B_MSIL1C_20200130T004659_N0208_R102_T53HPA_20200130T020548.SAFE/GRANULE/L1C_T53HPA_A015143_20200130T005534/IMG_DATA/T53HPA_20200130T004659_TCI.jp2...\n",
      "Copying gs://gcp-public-data-sentinel-2/tiles/53/H/PA/S2B_MSIL1C_20200130T004659_N0208_R102_T53HPA_20200130T020548.SAFE/GRANULE/L1C_T53HPA_A015143_20200130T005534/MTD_TL.xml...\n",
      "Copying gs://gcp-public-data-sentinel-2/tiles/53/H/PA/S2B_MSIL1C_20200130T004659_N0208_R102_T53HPA_20200130T020548.SAFE/GRANULE/L1C_T53HPA_A015143_20200130T005534/QI_DATA/FORMAT_CORRECTNESS.xml...\n",
      "Copying gs://gcp-public-data-sentinel-2/tiles/53/H/PA/S2B_MSIL1C_20200130T004659_N0208_R102_T53HPA_20200130T020548.SAFE/GRANULE/L1C_T53HPA_A015143_20200130T005534/QI_DATA/GENERAL_QUALITY.xml...\n",
      "Copying gs://gcp-public-data-sentinel-2/tiles/53/H/PA/S2B_MSIL1C_20200130T004659_N0208_R102_T53HPA_20200130T020548.SAFE/GRANULE/L1C_T53HPA_A015143_20200130T005534/QI_DATA/GEOMETRIC_QUALITY.xml...\n",
      "Copying gs://gcp-public-data-sentinel-2/tiles/53/H/PA/S2B_MSIL1C_20200130T004659_N0208_R102_T53HPA_20200130T020548.SAFE/GRANULE/L1C_T53HPA_A015143_20200130T005534/QI_DATA/MSK_CLOUDS_B00.gml...\n",
      "Copying gs://gcp-public-data-sentinel-2/tiles/53/H/PA/S2B_MSIL1C_20200130T004659_N0208_R102_T53HPA_20200130T020548.SAFE/GRANULE/L1C_T53HPA_A015143_20200130T005534/QI_DATA/MSK_DEFECT_B01.gml...\n",
      "Copying gs://gcp-public-data-sentinel-2/tiles/53/H/PA/S2B_MSIL1C_20200130T004659_N0208_R102_T53HPA_20200130T020548.SAFE/GRANULE/L1C_T53HPA_A015143_20200130T005534/QI_DATA/MSK_DEFECT_B02.gml...\n",
      "Copying gs://gcp-public-data-sentinel-2/tiles/53/H/PA/S2B_MSIL1C_20200130T004659_N0208_R102_T53HPA_20200130T020548.SAFE/GRANULE/L1C_T53HPA_A015143_20200130T005534/QI_DATA/MSK_DEFECT_B03.gml...\n",
      "Copying gs://gcp-public-data-sentinel-2/tiles/53/H/PA/S2B_MSIL1C_20200130T004659_N0208_R102_T53HPA_20200130T020548.SAFE/GRANULE/L1C_T53HPA_A015143_20200130T005534/QI_DATA/MSK_DEFECT_B04.gml...\n",
      "Copying gs://gcp-public-data-sentinel-2/tiles/53/H/PA/S2B_MSIL1C_20200130T004659_N0208_R102_T53HPA_20200130T020548.SAFE/GRANULE/L1C_T53HPA_A015143_20200130T005534/QI_DATA/MSK_DEFECT_B05.gml...\n",
      "Copying gs://gcp-public-data-sentinel-2/tiles/53/H/PA/S2B_MSIL1C_20200130T004659_N0208_R102_T53HPA_20200130T020548.SAFE/GRANULE/L1C_T53HPA_A015143_20200130T005534/QI_DATA/MSK_DEFECT_B06.gml...\n",
      "Copying gs://gcp-public-data-sentinel-2/tiles/53/H/PA/S2B_MSIL1C_20200130T004659_N0208_R102_T53HPA_20200130T020548.SAFE/GRANULE/L1C_T53HPA_A015143_20200130T005534/QI_DATA/MSK_DEFECT_B07.gml...\n",
      "Copying gs://gcp-public-data-sentinel-2/tiles/53/H/PA/S2B_MSIL1C_20200130T004659_N0208_R102_T53HPA_20200130T020548.SAFE/GRANULE/L1C_T53HPA_A015143_20200130T005534/QI_DATA/MSK_DEFECT_B08.gml...\n",
      "Copying gs://gcp-public-data-sentinel-2/tiles/53/H/PA/S2B_MSIL1C_20200130T004659_N0208_R102_T53HPA_20200130T020548.SAFE/GRANULE/L1C_T53HPA_A015143_20200130T005534/QI_DATA/MSK_DEFECT_B09.gml...\n",
      "Copying gs://gcp-public-data-sentinel-2/tiles/53/H/PA/S2B_MSIL1C_20200130T004659_N0208_R102_T53HPA_20200130T020548.SAFE/GRANULE/L1C_T53HPA_A015143_20200130T005534/QI_DATA/MSK_DEFECT_B10.gml...\n",
      "Copying gs://gcp-public-data-sentinel-2/tiles/53/H/PA/S2B_MSIL1C_20200130T004659_N0208_R102_T53HPA_20200130T020548.SAFE/GRANULE/L1C_T53HPA_A015143_20200130T005534/QI_DATA/MSK_DEFECT_B11.gml...\n",
      "Copying gs://gcp-public-data-sentinel-2/tiles/53/H/PA/S2B_MSIL1C_20200130T004659_N0208_R102_T53HPA_20200130T020548.SAFE/GRANULE/L1C_T53HPA_A015143_20200130T005534/QI_DATA/MSK_DEFECT_B12.gml...\n",
      "Copying gs://gcp-public-data-sentinel-2/tiles/53/H/PA/S2B_MSIL1C_20200130T004659_N0208_R102_T53HPA_20200130T020548.SAFE/GRANULE/L1C_T53HPA_A015143_20200130T005534/QI_DATA/MSK_DEFECT_B8A.gml...\n",
      "Copying gs://gcp-public-data-sentinel-2/tiles/53/H/PA/S2B_MSIL1C_20200130T004659_N0208_R102_T53HPA_20200130T020548.SAFE/GRANULE/L1C_T53HPA_A015143_20200130T005534/QI_DATA/MSK_DETFOO_B01.gml...\n"
     ]
    },
    {
     "name": "stdout",
     "output_type": "stream",
     "text": [
      "Copying gs://gcp-public-data-sentinel-2/tiles/53/H/PA/S2B_MSIL1C_20200130T004659_N0208_R102_T53HPA_20200130T020548.SAFE/GRANULE/L1C_T53HPA_A015143_20200130T005534/QI_DATA/MSK_DETFOO_B02.gml...\n",
      "Copying gs://gcp-public-data-sentinel-2/tiles/53/H/PA/S2B_MSIL1C_20200130T004659_N0208_R102_T53HPA_20200130T020548.SAFE/GRANULE/L1C_T53HPA_A015143_20200130T005534/QI_DATA/MSK_DETFOO_B03.gml...\n",
      "Copying gs://gcp-public-data-sentinel-2/tiles/53/H/PA/S2B_MSIL1C_20200130T004659_N0208_R102_T53HPA_20200130T020548.SAFE/GRANULE/L1C_T53HPA_A015143_20200130T005534/QI_DATA/MSK_DETFOO_B04.gml...\n",
      "Copying gs://gcp-public-data-sentinel-2/tiles/53/H/PA/S2B_MSIL1C_20200130T004659_N0208_R102_T53HPA_20200130T020548.SAFE/GRANULE/L1C_T53HPA_A015143_20200130T005534/QI_DATA/MSK_DETFOO_B05.gml...\n",
      "Copying gs://gcp-public-data-sentinel-2/tiles/53/H/PA/S2B_MSIL1C_20200130T004659_N0208_R102_T53HPA_20200130T020548.SAFE/GRANULE/L1C_T53HPA_A015143_20200130T005534/QI_DATA/MSK_DETFOO_B06.gml...\n",
      "Copying gs://gcp-public-data-sentinel-2/tiles/53/H/PA/S2B_MSIL1C_20200130T004659_N0208_R102_T53HPA_20200130T020548.SAFE/GRANULE/L1C_T53HPA_A015143_20200130T005534/QI_DATA/MSK_DETFOO_B07.gml...\n",
      "Copying gs://gcp-public-data-sentinel-2/tiles/53/H/PA/S2B_MSIL1C_20200130T004659_N0208_R102_T53HPA_20200130T020548.SAFE/GRANULE/L1C_T53HPA_A015143_20200130T005534/QI_DATA/MSK_DETFOO_B08.gml...\n",
      "Copying gs://gcp-public-data-sentinel-2/tiles/53/H/PA/S2B_MSIL1C_20200130T004659_N0208_R102_T53HPA_20200130T020548.SAFE/GRANULE/L1C_T53HPA_A015143_20200130T005534/QI_DATA/MSK_DETFOO_B09.gml...\n",
      "Copying gs://gcp-public-data-sentinel-2/tiles/53/H/PA/S2B_MSIL1C_20200130T004659_N0208_R102_T53HPA_20200130T020548.SAFE/GRANULE/L1C_T53HPA_A015143_20200130T005534/QI_DATA/MSK_DETFOO_B10.gml...\n",
      "Copying gs://gcp-public-data-sentinel-2/tiles/53/H/PA/S2B_MSIL1C_20200130T004659_N0208_R102_T53HPA_20200130T020548.SAFE/GRANULE/L1C_T53HPA_A015143_20200130T005534/QI_DATA/MSK_DETFOO_B11.gml...\n",
      "Copying gs://gcp-public-data-sentinel-2/tiles/53/H/PA/S2B_MSIL1C_20200130T004659_N0208_R102_T53HPA_20200130T020548.SAFE/GRANULE/L1C_T53HPA_A015143_20200130T005534/QI_DATA/MSK_DETFOO_B12.gml...\n",
      "Copying gs://gcp-public-data-sentinel-2/tiles/53/H/PA/S2B_MSIL1C_20200130T004659_N0208_R102_T53HPA_20200130T020548.SAFE/GRANULE/L1C_T53HPA_A015143_20200130T005534/QI_DATA/MSK_DETFOO_B8A.gml...\n",
      "Copying gs://gcp-public-data-sentinel-2/tiles/53/H/PA/S2B_MSIL1C_20200130T004659_N0208_R102_T53HPA_20200130T020548.SAFE/GRANULE/L1C_T53HPA_A015143_20200130T005534/QI_DATA/MSK_NODATA_B01.gml...\n",
      "Copying gs://gcp-public-data-sentinel-2/tiles/53/H/PA/S2B_MSIL1C_20200130T004659_N0208_R102_T53HPA_20200130T020548.SAFE/GRANULE/L1C_T53HPA_A015143_20200130T005534/QI_DATA/MSK_NODATA_B02.gml...\n",
      "Copying gs://gcp-public-data-sentinel-2/tiles/53/H/PA/S2B_MSIL1C_20200130T004659_N0208_R102_T53HPA_20200130T020548.SAFE/GRANULE/L1C_T53HPA_A015143_20200130T005534/QI_DATA/MSK_NODATA_B03.gml...\n",
      "Copying gs://gcp-public-data-sentinel-2/tiles/53/H/PA/S2B_MSIL1C_20200130T004659_N0208_R102_T53HPA_20200130T020548.SAFE/GRANULE/L1C_T53HPA_A015143_20200130T005534/QI_DATA/MSK_NODATA_B04.gml...\n",
      "Copying gs://gcp-public-data-sentinel-2/tiles/53/H/PA/S2B_MSIL1C_20200130T004659_N0208_R102_T53HPA_20200130T020548.SAFE/GRANULE/L1C_T53HPA_A015143_20200130T005534/QI_DATA/MSK_NODATA_B05.gml...\n",
      "Copying gs://gcp-public-data-sentinel-2/tiles/53/H/PA/S2B_MSIL1C_20200130T004659_N0208_R102_T53HPA_20200130T020548.SAFE/GRANULE/L1C_T53HPA_A015143_20200130T005534/QI_DATA/MSK_NODATA_B06.gml...\n",
      "Copying gs://gcp-public-data-sentinel-2/tiles/53/H/PA/S2B_MSIL1C_20200130T004659_N0208_R102_T53HPA_20200130T020548.SAFE/GRANULE/L1C_T53HPA_A015143_20200130T005534/QI_DATA/MSK_NODATA_B07.gml...\n",
      "Copying gs://gcp-public-data-sentinel-2/tiles/53/H/PA/S2B_MSIL1C_20200130T004659_N0208_R102_T53HPA_20200130T020548.SAFE/GRANULE/L1C_T53HPA_A015143_20200130T005534/QI_DATA/MSK_NODATA_B08.gml...\n",
      "Copying gs://gcp-public-data-sentinel-2/tiles/53/H/PA/S2B_MSIL1C_20200130T004659_N0208_R102_T53HPA_20200130T020548.SAFE/GRANULE/L1C_T53HPA_A015143_20200130T005534/QI_DATA/MSK_NODATA_B09.gml...\n",
      "Copying gs://gcp-public-data-sentinel-2/tiles/53/H/PA/S2B_MSIL1C_20200130T004659_N0208_R102_T53HPA_20200130T020548.SAFE/GRANULE/L1C_T53HPA_A015143_20200130T005534/QI_DATA/MSK_NODATA_B10.gml...\n",
      "Copying gs://gcp-public-data-sentinel-2/tiles/53/H/PA/S2B_MSIL1C_20200130T004659_N0208_R102_T53HPA_20200130T020548.SAFE/GRANULE/L1C_T53HPA_A015143_20200130T005534/QI_DATA/MSK_NODATA_B11.gml...\n",
      "Copying gs://gcp-public-data-sentinel-2/tiles/53/H/PA/S2B_MSIL1C_20200130T004659_N0208_R102_T53HPA_20200130T020548.SAFE/GRANULE/L1C_T53HPA_A015143_20200130T005534/QI_DATA/MSK_NODATA_B12.gml...\n",
      "Copying gs://gcp-public-data-sentinel-2/tiles/53/H/PA/S2B_MSIL1C_20200130T004659_N0208_R102_T53HPA_20200130T020548.SAFE/GRANULE/L1C_T53HPA_A015143_20200130T005534/QI_DATA/MSK_NODATA_B8A.gml...\n",
      "Copying gs://gcp-public-data-sentinel-2/tiles/53/H/PA/S2B_MSIL1C_20200130T004659_N0208_R102_T53HPA_20200130T020548.SAFE/GRANULE/L1C_T53HPA_A015143_20200130T005534/QI_DATA/MSK_SATURA_B01.gml...\n",
      "Copying gs://gcp-public-data-sentinel-2/tiles/53/H/PA/S2B_MSIL1C_20200130T004659_N0208_R102_T53HPA_20200130T020548.SAFE/GRANULE/L1C_T53HPA_A015143_20200130T005534/QI_DATA/MSK_SATURA_B02.gml...\n",
      "Copying gs://gcp-public-data-sentinel-2/tiles/53/H/PA/S2B_MSIL1C_20200130T004659_N0208_R102_T53HPA_20200130T020548.SAFE/GRANULE/L1C_T53HPA_A015143_20200130T005534/QI_DATA/MSK_SATURA_B03.gml...\n",
      "Copying gs://gcp-public-data-sentinel-2/tiles/53/H/PA/S2B_MSIL1C_20200130T004659_N0208_R102_T53HPA_20200130T020548.SAFE/GRANULE/L1C_T53HPA_A015143_20200130T005534/QI_DATA/MSK_SATURA_B04.gml...\n",
      "Copying gs://gcp-public-data-sentinel-2/tiles/53/H/PA/S2B_MSIL1C_20200130T004659_N0208_R102_T53HPA_20200130T020548.SAFE/GRANULE/L1C_T53HPA_A015143_20200130T005534/QI_DATA/MSK_SATURA_B05.gml...\n",
      "Copying gs://gcp-public-data-sentinel-2/tiles/53/H/PA/S2B_MSIL1C_20200130T004659_N0208_R102_T53HPA_20200130T020548.SAFE/GRANULE/L1C_T53HPA_A015143_20200130T005534/QI_DATA/MSK_SATURA_B06.gml...\n",
      "Copying gs://gcp-public-data-sentinel-2/tiles/53/H/PA/S2B_MSIL1C_20200130T004659_N0208_R102_T53HPA_20200130T020548.SAFE/GRANULE/L1C_T53HPA_A015143_20200130T005534/QI_DATA/MSK_SATURA_B07.gml...\n",
      "Copying gs://gcp-public-data-sentinel-2/tiles/53/H/PA/S2B_MSIL1C_20200130T004659_N0208_R102_T53HPA_20200130T020548.SAFE/GRANULE/L1C_T53HPA_A015143_20200130T005534/QI_DATA/MSK_SATURA_B08.gml...\n",
      "Copying gs://gcp-public-data-sentinel-2/tiles/53/H/PA/S2B_MSIL1C_20200130T004659_N0208_R102_T53HPA_20200130T020548.SAFE/GRANULE/L1C_T53HPA_A015143_20200130T005534/QI_DATA/MSK_SATURA_B09.gml...\n",
      "Copying gs://gcp-public-data-sentinel-2/tiles/53/H/PA/S2B_MSIL1C_20200130T004659_N0208_R102_T53HPA_20200130T020548.SAFE/GRANULE/L1C_T53HPA_A015143_20200130T005534/QI_DATA/MSK_SATURA_B10.gml...\n",
      "Copying gs://gcp-public-data-sentinel-2/tiles/53/H/PA/S2B_MSIL1C_20200130T004659_N0208_R102_T53HPA_20200130T020548.SAFE/GRANULE/L1C_T53HPA_A015143_20200130T005534/QI_DATA/MSK_SATURA_B11.gml...\n",
      "Copying gs://gcp-public-data-sentinel-2/tiles/53/H/PA/S2B_MSIL1C_20200130T004659_N0208_R102_T53HPA_20200130T020548.SAFE/GRANULE/L1C_T53HPA_A015143_20200130T005534/QI_DATA/MSK_SATURA_B12.gml...\n",
      "Copying gs://gcp-public-data-sentinel-2/tiles/53/H/PA/S2B_MSIL1C_20200130T004659_N0208_R102_T53HPA_20200130T020548.SAFE/GRANULE/L1C_T53HPA_A015143_20200130T005534/QI_DATA/MSK_SATURA_B8A.gml...\n",
      "Copying gs://gcp-public-data-sentinel-2/tiles/53/H/PA/S2B_MSIL1C_20200130T004659_N0208_R102_T53HPA_20200130T020548.SAFE/GRANULE/L1C_T53HPA_A015143_20200130T005534/QI_DATA/MSK_TECQUA_B01.gml...\n",
      "Copying gs://gcp-public-data-sentinel-2/tiles/53/H/PA/S2B_MSIL1C_20200130T004659_N0208_R102_T53HPA_20200130T020548.SAFE/GRANULE/L1C_T53HPA_A015143_20200130T005534/QI_DATA/MSK_TECQUA_B02.gml...\n",
      "Copying gs://gcp-public-data-sentinel-2/tiles/53/H/PA/S2B_MSIL1C_20200130T004659_N0208_R102_T53HPA_20200130T020548.SAFE/GRANULE/L1C_T53HPA_A015143_20200130T005534/QI_DATA/MSK_TECQUA_B03.gml...\n",
      "Copying gs://gcp-public-data-sentinel-2/tiles/53/H/PA/S2B_MSIL1C_20200130T004659_N0208_R102_T53HPA_20200130T020548.SAFE/GRANULE/L1C_T53HPA_A015143_20200130T005534/QI_DATA/MSK_TECQUA_B04.gml...\n",
      "Copying gs://gcp-public-data-sentinel-2/tiles/53/H/PA/S2B_MSIL1C_20200130T004659_N0208_R102_T53HPA_20200130T020548.SAFE/GRANULE/L1C_T53HPA_A015143_20200130T005534/QI_DATA/MSK_TECQUA_B05.gml...\n"
     ]
    },
    {
     "name": "stdout",
     "output_type": "stream",
     "text": [
      "Copying gs://gcp-public-data-sentinel-2/tiles/53/H/PA/S2B_MSIL1C_20200130T004659_N0208_R102_T53HPA_20200130T020548.SAFE/GRANULE/L1C_T53HPA_A015143_20200130T005534/QI_DATA/MSK_TECQUA_B06.gml...\n",
      "Copying gs://gcp-public-data-sentinel-2/tiles/53/H/PA/S2B_MSIL1C_20200130T004659_N0208_R102_T53HPA_20200130T020548.SAFE/GRANULE/L1C_T53HPA_A015143_20200130T005534/QI_DATA/MSK_TECQUA_B07.gml...\n",
      "Copying gs://gcp-public-data-sentinel-2/tiles/53/H/PA/S2B_MSIL1C_20200130T004659_N0208_R102_T53HPA_20200130T020548.SAFE/GRANULE/L1C_T53HPA_A015143_20200130T005534/QI_DATA/MSK_TECQUA_B08.gml...\n",
      "Copying gs://gcp-public-data-sentinel-2/tiles/53/H/PA/S2B_MSIL1C_20200130T004659_N0208_R102_T53HPA_20200130T020548.SAFE/GRANULE/L1C_T53HPA_A015143_20200130T005534/QI_DATA/MSK_TECQUA_B09.gml...\n",
      "Copying gs://gcp-public-data-sentinel-2/tiles/53/H/PA/S2B_MSIL1C_20200130T004659_N0208_R102_T53HPA_20200130T020548.SAFE/GRANULE/L1C_T53HPA_A015143_20200130T005534/QI_DATA/MSK_TECQUA_B10.gml...\n",
      "Copying gs://gcp-public-data-sentinel-2/tiles/53/H/PA/S2B_MSIL1C_20200130T004659_N0208_R102_T53HPA_20200130T020548.SAFE/GRANULE/L1C_T53HPA_A015143_20200130T005534/QI_DATA/MSK_TECQUA_B11.gml...\n",
      "Copying gs://gcp-public-data-sentinel-2/tiles/53/H/PA/S2B_MSIL1C_20200130T004659_N0208_R102_T53HPA_20200130T020548.SAFE/GRANULE/L1C_T53HPA_A015143_20200130T005534/QI_DATA/MSK_TECQUA_B12.gml...\n",
      "Copying gs://gcp-public-data-sentinel-2/tiles/53/H/PA/S2B_MSIL1C_20200130T004659_N0208_R102_T53HPA_20200130T020548.SAFE/GRANULE/L1C_T53HPA_A015143_20200130T005534/QI_DATA/MSK_TECQUA_B8A.gml...\n",
      "Copying gs://gcp-public-data-sentinel-2/tiles/53/H/PA/S2B_MSIL1C_20200130T004659_N0208_R102_T53HPA_20200130T020548.SAFE/GRANULE/L1C_T53HPA_A015143_20200130T005534/QI_DATA/SENSOR_QUALITY.xml...\n",
      "Copying gs://gcp-public-data-sentinel-2/tiles/53/H/PA/S2B_MSIL1C_20200130T004659_N0208_R102_T53HPA_20200130T020548.SAFE/GRANULE/L1C_T53HPA_A015143_20200130T005534/QI_DATA/T53HPA_20200130T004659_PVI.jp2...\n",
      "Copying gs://gcp-public-data-sentinel-2/tiles/53/H/PA/S2B_MSIL1C_20200130T004659_N0208_R102_T53HPA_20200130T020548.SAFE/INSPIRE.xml...\n",
      "Copying gs://gcp-public-data-sentinel-2/tiles/53/H/PA/S2B_MSIL1C_20200130T004659_N0208_R102_T53HPA_20200130T020548.SAFE/MTD_MSIL1C.xml...\n",
      "Copying gs://gcp-public-data-sentinel-2/tiles/53/H/PA/S2B_MSIL1C_20200130T004659_N0208_R102_T53HPA_20200130T020548.SAFE/manifest.safe...\n",
      "Copying gs://gcp-public-data-sentinel-2/tiles/53/H/PA/S2B_MSIL1C_20200130T004659_N0208_R102_T53HPA_20200130T020548.SAFE/rep_info/S2_User_Product_Level-1C_Metadata.xsd...\n",
      "\\ [97 files][617.2 MiB/617.2 MiB]   63.1 KiB/s                                  \n",
      "==> NOTE: You are performing a sequence of gsutil operations that may\n",
      "run significantly faster if you instead use gsutil -m cp ... Please\n",
      "see the -m section under \"gsutil help options\" for further information\n",
      "about when gsutil -m can be advantageous.\n",
      "\n",
      "\n",
      "Operation completed over 97 objects/617.2 MiB.                                   \n"
     ]
    }
   ],
   "source": [
    "#!cd /Volumes/My\\ Passport\\ for\\ Mac/sentinel_2_53HPA/ && gsutil cp -r gs://gcp-public-data-sentinel-2/tiles/53/H/PA/S2B_MSIL1C_20200130T004659_N0208_R102_T53HPA_20200130T020548.SAFE .\n"
   ]
  },
  {
   "cell_type": "code",
   "execution_count": null,
   "metadata": {},
   "outputs": [],
   "source": []
  },
  {
   "cell_type": "code",
   "execution_count": null,
   "metadata": {},
   "outputs": [],
   "source": []
  },
  {
   "cell_type": "code",
   "execution_count": null,
   "metadata": {},
   "outputs": [],
   "source": []
  },
  {
   "cell_type": "code",
   "execution_count": null,
   "metadata": {},
   "outputs": [],
   "source": []
  },
  {
   "cell_type": "code",
   "execution_count": 106,
   "metadata": {},
   "outputs": [],
   "source": [
    "np.save('test_preds.npy', preds)"
   ]
  },
  {
   "cell_type": "code",
   "execution_count": 105,
   "metadata": {},
   "outputs": [],
   "source": [
    "preds = np.array([0.4132, 0.001,0.01, 0.004, 0.0004,\n",
    "                  0.832, 0.003, 0.005, 0.132, 0.0021,\n",
    "                  0.0004, 0.231, 0.013, 0.033, 0.001,\n",
    "                  0.0001, 0.01, 0.002, 0.001, 0.001,\n",
    "                  0.163, 0.412, 0.966, 0.112, 0.021,\n",
    "                  \n",
    "                  0.008, 0.209, 0.004, 0.005, 0.101,\n",
    "                  0.961, 0.122, 0.001, 0.002, 0.003,\n",
    "                  0.142, 0.011, 0.002, 0.01, 0.005,\n",
    "                  0.032, 0.422, 0.003, 0.008, 0.001,\n",
    "                  0.862, 0.004, 0.016, 0.424,0.332                  \n",
    "                 ]).reshape((2,5,5))\n"
   ]
  },
  {
   "cell_type": "code",
   "execution_count": null,
   "metadata": {},
   "outputs": [],
   "source": []
  }
 ],
 "metadata": {
  "kernelspec": {
   "display_name": "Python 3",
   "language": "python",
   "name": "python3"
  },
  "language_info": {
   "codemirror_mode": {
    "name": "ipython",
    "version": 3
   },
   "file_extension": ".py",
   "mimetype": "text/x-python",
   "name": "python",
   "nbconvert_exporter": "python",
   "pygments_lexer": "ipython3",
   "version": "3.7.2"
  }
 },
 "nbformat": 4,
 "nbformat_minor": 2
}
