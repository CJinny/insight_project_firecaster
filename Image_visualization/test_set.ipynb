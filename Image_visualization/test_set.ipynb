{
 "cells": [
  {
   "cell_type": "code",
   "execution_count": 1,
   "metadata": {},
   "outputs": [],
   "source": [
    "##\n",
    "import numpy as np\n",
    "import pandas as pd\n",
    "\n",
    "import gc\n",
    "import os\n",
    "from matplotlib import pyplot as plt\n",
    "import rasterio\n",
    "import geopandas as gpd\n",
    "from rasterio.plot import show, show_hist\n",
    "import rasterio\n",
    "import rasterio.mask as Mask\n",
    "import rasterio.features\n",
    "import rasterio.warp\n",
    "from rasterio.plot import show_hist\n",
    "import fiona\n",
    "import os\n",
    "import glob\n",
    "import shapely\n",
    "from shapely.geometry import LineString, Polygon, Polygon, Point, MultiPoint, MultiPolygon\n",
    "from functools import partial\n",
    "import pyproj\n",
    "import shapely\n",
    "from shapely.ops import transform\n",
    "from tqdm import tqdm_notebook, tqdm\n",
    "## help with figure rotation\n",
    "from scipy import ndimage, misc\n",
    "from shapely.geometry import Point\n",
    "import geopandas as gpd\n",
    "import cv2   # usse to resize images so that every image would have the same size!!!! \n",
    "## GDAL_DATA environment problem\n",
    "os.environ['GDAL_DATA'] = '/opt/anaconda3/pkgs/libgdal-2.3.3-h0950a36_0/share/gdal'\n",
    "fiona.drvsupport.supported_drivers['kml'] = 'rw'\n",
    "fiona.drvsupport.supported_drivers['KML'] = 'rw'\n",
    "import seaborn as sns\n",
    "from matplotlib import pyplot as plt\n",
    "from matplotlib_scalebar.scalebar import ScaleBar\n"
   ]
  },
  {
   "cell_type": "code",
   "execution_count": 21,
   "metadata": {},
   "outputs": [],
   "source": [
    "def concat_bands(name='L1C_T53HPA_A004418_20180110T005319', \n",
    "                 BASE = '/Volumes/My Passport for Mac/sentinel_2_53HPA/',\n",
    "                 #OUT='/Volumes/My Passport for Mac/'\n",
    "                 ):\n",
    "    '''Resize all bands to (5490, 5490), resolution at 20meter/pixel'''\n",
    "\n",
    "    b01 = rasterio.open(BASE+name+'_b01.tif').read(1)\n",
    "    b01 = np.expand_dims(cv2.resize(b01, (5490,5490)), axis=2)[3000:4000,2200:3200,:]\n",
    "    b09 = rasterio.open(BASE+name+'_b09.tif').read(1)\n",
    "    b09 = np.expand_dims(cv2.resize(b09, (5490,5490)), axis=2)[3000:4000,2200:3200,:]\n",
    "    b10 = rasterio.open(BASE+name+'_b10.tif').read(1)\n",
    "    b10 = np.expand_dims(cv2.resize(b10, (5490,5490)), axis=2)[3000:4000,2200:3200,:]\n",
    "\n",
    "    b02 = rasterio.open(BASE+name+'_b02.tif').read(1)\n",
    "    b02 = np.expand_dims(cv2.resize(b02, (5490,5490)), axis=2)[3000:4000,2200:3200,:]\n",
    "    b03 = rasterio.open(BASE+name+'_b03.tif').read(1)\n",
    "    b03 = np.expand_dims(cv2.resize(b03, (5490,5490)), axis=2)[3000:4000,2200:3200,:]\n",
    "    b04 = rasterio.open(BASE+name+'_b04.tif').read(1)\n",
    "    b04 = np.expand_dims(cv2.resize(b04, (5490,5490)), axis=2)[3000:4000,2200:3200,:]\n",
    "    b08 = rasterio.open(BASE+name+'_b08.tif').read(1)\n",
    "    b08 = np.expand_dims(cv2.resize(b08, (5490,5490)), axis=2)[3000:4000,2200:3200,:]\n",
    "    tci = rasterio.open(BASE+name+'_tci.tif').read(1)\n",
    "    tci = np.expand_dims(cv2.resize(tci, (5490,5490)), axis=2)[3000:4000,2200:3200,:]\n",
    "\n",
    "    b05 = np.expand_dims(rasterio.open(BASE+name+'_b05.tif').read(1), axis=2)[3000:4000,2200:3200,:]\n",
    "    b06 = np.expand_dims(rasterio.open(BASE+name+'_b06.tif').read(1), axis=2)[3000:4000,2200:3200,:]\n",
    "    b07 = np.expand_dims(rasterio.open(BASE+name+'_b07.tif').read(1), axis=2)[3000:4000,2200:3200,:]\n",
    "    b8A = np.expand_dims(rasterio.open(BASE+name+'_b8A.tif').read(1), axis=2)[3000:4000,2200:3200,:]\n",
    "    b11 = np.expand_dims(rasterio.open(BASE+name+'_b11.tif').read(1), axis=2)[3000:4000,2200:3200,:]\n",
    "    b12 = np.expand_dims(rasterio.open(BASE+name+'_b12.tif').read(1), axis=2)[3000:4000,2200:3200,:]\n",
    "    \n",
    "    concat = np.concatenate([b01,b02,b03,b04,b05,b06,b07,b08,b09,b10,b11,b12,b8A,tci],axis=-1)\n",
    "    concat = np.expand_dims(concat, 0)\n",
    "    return concat\n",
    "\n",
    "def expand_nbr(name='L1C_T53HPA_A004418_20180110T005319', \n",
    "                 BASE = '/Volumes/My Passport for Mac/sentinel_2_53HPA/',\n",
    "                 #OUT='/Volumes/My Passport for Mac/'\n",
    "                A=100\n",
    "                 ):\n",
    "    \n",
    "    ## add 200 paddings outwards!\n",
    "    smooth=1e-5\n",
    "    b08 = rasterio.open(BASE+name+'_b08.tif').read(1)\n",
    "    b08 = np.expand_dims(cv2.resize(b08, (5490,5490)), axis=2)[3000-A:4000+A,2200-A:3200+A,:]\n",
    "    b12 = np.expand_dims(rasterio.open(BASE+name+'_b12.tif').read(1), axis=2)[3000-A:4000+A,2200-A:3200+A,:]\n",
    "    nbr = (b08-b12+smooth)/(b08+b12+smooth)\n",
    "    nbr = np.expand_dims(nbr, 0)\n",
    "    return nbr\n",
    "\n",
    "\n",
    "bigquery_res = pd.read_csv('/Volumes/My Passport for Mac/sentinel_2_53HPA/bigquery_results_s.csv', index_col=0)\n",
    "bigquery_res['sensing_time'] = pd.to_datetime(bigquery_res['sensing_time'])\n",
    "bigquery_res = bigquery_res[bigquery_res['cloud_cover']<75]\n",
    "bigquery_res = bigquery_res.reset_index(drop=True)\n"
   ]
  },
  {
   "cell_type": "code",
   "execution_count": 30,
   "metadata": {},
   "outputs": [],
   "source": [
    "id_names = bigquery_res['granule_id'].values.tolist()\n",
    "id_names.extend(['L1C_T53HPA_A015000_20200120T005618','L1C_T53HPA_A023980_20200125T004659'])\n",
    "id_names = id_names[-6:]\n"
   ]
  },
  {
   "cell_type": "code",
   "execution_count": 31,
   "metadata": {},
   "outputs": [
    {
     "data": {
      "application/vnd.jupyter.widget-view+json": {
       "model_id": "29fb18191e834f1b88777f17db0f43cb",
       "version_major": 2,
       "version_minor": 0
      },
      "text/plain": [
       "HBox(children=(IntProgress(value=0, max=6), HTML(value='')))"
      ]
     },
     "metadata": {},
     "output_type": "display_data"
    }
   ],
   "source": [
    "for i in tqdm_notebook(range(len(id_names))):\n",
    "    if i == 0:\n",
    "        imgs = concat_bands(id_names[i])\n",
    "        exp_nbr = expand_nbr(name=id_names[i])\n",
    "    else:\n",
    "        imgs = np.concatenate([imgs, concat_bands(id_names[i])])\n",
    "        exp_nbr = np.concatenate([exp_nbr, expand_nbr(name=id_names[i])],0)\n"
   ]
  },
  {
   "cell_type": "code",
   "execution_count": 32,
   "metadata": {},
   "outputs": [],
   "source": [
    "exp_dnbr = np.zeros((5,1200,1200,1))\n",
    "for i in range(5):\n",
    "    exp_dnbr[i,:] = exp_nbr[i+1,:] - exp_nbr[i,:]"
   ]
  },
  {
   "cell_type": "code",
   "execution_count": 33,
   "metadata": {},
   "outputs": [],
   "source": [
    "dnbr_s = exp_dnbr[:,200:1200,100:1100,:]\n",
    "dnbr_n = exp_dnbr[:,0:1000,100:1100,:]\n",
    "dnbr_w = exp_dnbr[:,100:1100,0:1000,:]\n",
    "dnbr_e = exp_dnbr[:,100:1100,200:1200,:]\n",
    "\n",
    "dnbr_nw = exp_dnbr[:,0:1000,0:1000,:]\n",
    "dnbr_sw = exp_dnbr[:,200:1200,0:1000,:]\n",
    "dnbr_ne = exp_dnbr[:,0:1000,200:1200,:]\n",
    "dnbr_se = exp_dnbr[:,200:1200,200:1200,:]\n",
    "dnbr_list  = [dnbr_s, dnbr_n, dnbr_w, dnbr_e, dnbr_nw, dnbr_sw, dnbr_ne, dnbr_se]\n",
    "suffix_list= ['south','north','west','east','northwest','southwest','northeast','southeast']\n",
    "\n"
   ]
  },
  {
   "cell_type": "code",
   "execution_count": 34,
   "metadata": {},
   "outputs": [],
   "source": [
    "smooth = 1e-5\n",
    "b08 = imgs[:,:,:,7:8] \n",
    "b12 = imgs[:,:,:,11:12]\n",
    "nbr = (b08-b12+smooth)/(b08+b12+smooth)\n",
    "\n",
    "dnbr = np.zeros((5,1000,1000,1))\n",
    "for i in range(5):\n",
    "    dnbr[i,:] = nbr[i+1,:] - nbr[i,:]"
   ]
  },
  {
   "cell_type": "code",
   "execution_count": 35,
   "metadata": {},
   "outputs": [
    {
     "data": {
      "text/plain": [
       "(5, 1000, 1000, 1)"
      ]
     },
     "execution_count": 35,
     "metadata": {},
     "output_type": "execute_result"
    }
   ],
   "source": [
    "dnbr.shape"
   ]
  },
  {
   "cell_type": "code",
   "execution_count": 37,
   "metadata": {},
   "outputs": [],
   "source": [
    "#np.savez_compressed('test_data', exp_dnbr=exp_dnbr, imgs=imgs, dnbr=dnbr)\n"
   ]
  },
  {
   "cell_type": "code",
   "execution_count": null,
   "metadata": {},
   "outputs": [],
   "source": []
  },
  {
   "cell_type": "code",
   "execution_count": null,
   "metadata": {},
   "outputs": [],
   "source": [
    "### Generate test set gsod features\n",
    "local_records_day_0 = pd.read_csv('/Users/jincui/Downloads/landsat_analysis/fc_day_0.csv').drop(['date'],1)\n",
    "local_records_day_1 = pd.read_csv('/Users/jincui/Downloads/landsat_analysis/fc_day_1.csv').drop(['date'],1)\n",
    "local_records_day_2 = pd.read_csv('/Users/jincui/Downloads/landsat_analysis/fc_day_2.csv').drop(['date'],1)\n",
    "local_records_day_3 = pd.read_csv('/Users/jincui/Downloads/landsat_analysis/fc_day_3.csv').drop(['date'],1)\n",
    "local_records_day_4 = pd.read_csv('/Users/jincui/Downloads/landsat_analysis/fc_day_4.csv').drop(['date'],1)\n",
    "\n",
    "local_records_day_0.columns = [*map(lambda t: t+'_0', local_records_day_0.columns)]\n",
    "local_records_day_1.columns = [*map(lambda t: t+'_1', local_records_day_1.columns)]\n",
    "local_records_day_2.columns = [*map(lambda t: t+'_2', local_records_day_2.columns)]\n",
    "local_records_day_3.columns = [*map(lambda t: t+'_3', local_records_day_3.columns)]\n",
    "local_records_day_4.columns = [*map(lambda t: t+'_4', local_records_day_4.columns)]\n",
    "gsod_5day = pd.concat([local_records_day_0.iloc[-2:,:],\n",
    "           local_records_day_1.iloc[-2:,:], \n",
    "           local_records_day_2.iloc[-2:,:], \n",
    "           local_records_day_3.iloc[-2:,:], \n",
    "           local_records_day_4.iloc[-2:,:]\n",
    "          ],1)\n",
    "\n",
    "# Had to manuall fill in some weather data from https://www.ncei.noaa.gov/data/global-summary-of-the-day/access/2020/\n",
    "##gsod_5day.to_csv('test_gsod_features.csv', index=False)"
   ]
  },
  {
   "cell_type": "code",
   "execution_count": null,
   "metadata": {},
   "outputs": [],
   "source": []
  },
  {
   "cell_type": "code",
   "execution_count": null,
   "metadata": {},
   "outputs": [],
   "source": []
  }
 ],
 "metadata": {
  "kernelspec": {
   "display_name": "Python 3",
   "language": "python",
   "name": "python3"
  },
  "language_info": {
   "codemirror_mode": {
    "name": "ipython",
    "version": 3
   },
   "file_extension": ".py",
   "mimetype": "text/x-python",
   "name": "python",
   "nbconvert_exporter": "python",
   "pygments_lexer": "ipython3",
   "version": "3.7.2"
  }
 },
 "nbformat": 4,
 "nbformat_minor": 2
}
