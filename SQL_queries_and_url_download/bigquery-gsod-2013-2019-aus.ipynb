{
 "cells": [
  {
   "cell_type": "code",
   "execution_count": 1,
   "metadata": {
    "_cell_guid": "b1076dfc-b9ad-4769-8c92-a6c4dae69d19",
    "_uuid": "8f2839f25d086af736a60e9eeb907d3b93b6e0e5"
   },
   "outputs": [],
   "source": [
    "import numpy as np\n",
    "import pandas as pd\n",
    "\n",
    "PROJECT_ID = 'bigquery-261200'\n",
    "from google.cloud import bigquery\n",
    "bigquery_client = bigquery.Client(project=PROJECT_ID)\n",
    "from google.cloud import storage\n",
    "storage_client = storage.Client(project=PROJECT_ID)"
   ]
  },
  {
   "cell_type": "code",
   "execution_count": 2,
   "metadata": {
    "_cell_guid": "79c7e3d0-c299-4dcb-8224-4455121ee9b0",
    "_uuid": "d629ff2d2480ee46fbb7e2d37f6b5fab8052498a"
   },
   "outputs": [],
   "source": [
    "def generate_query(year=2019):\n",
    "    return f\"\"\"SELECT a.*, b.* EXCEPT (wban)\n",
    "    FROM\n",
    "    (SELECT *\n",
    "    FROM \n",
    "       `bigquery-public-data.noaa_gsod.gsod{year}`) a\n",
    "    JOIN\n",
    "    (SELECT *\n",
    "    FROM \n",
    "      `bigquery-public-data.noaa_gsod.stations`\n",
    "    WHERE country='AS') b\n",
    "    ON a.stn = b.usaf AND a.wban =b.wban\n",
    "    ;\n",
    "      \"\"\""
   ]
  },
  {
   "cell_type": "code",
   "execution_count": 3,
   "metadata": {},
   "outputs": [],
   "source": [
    "gsod2013 = bigquery_client.query(generate_query(year=2013)).to_dataframe()\n",
    "gsod2014 = bigquery_client.query(generate_query(year=2014)).to_dataframe()\n",
    "gsod2015 = bigquery_client.query(generate_query(year=2015)).to_dataframe()\n",
    "gsod2016 = bigquery_client.query(generate_query(year=2016)).to_dataframe()\n",
    "gsod2017 = bigquery_client.query(generate_query(year=2017)).to_dataframe()\n",
    "gsod2018 = bigquery_client.query(generate_query(year=2018)).to_dataframe()\n",
    "gsod2019 = bigquery_client.query(generate_query(year=2019)).to_dataframe()"
   ]
  },
  {
   "cell_type": "code",
   "execution_count": 4,
   "metadata": {},
   "outputs": [],
   "source": [
    "gsod2013.to_csv('aus_gsod2013.csv', index=False)\n",
    "gsod2014.to_csv('aus_gsod2014.csv', index=False)\n",
    "gsod2015.to_csv('aus_gsod2015.csv', index=False)\n",
    "gsod2016.to_csv('aus_gsod2016.csv', index=False)\n",
    "gsod2017.to_csv('aus_gsod2017.csv', index=False)\n",
    "gsod2018.to_csv('aus_gsod2018.csv', index=False)\n",
    "gsod2019.to_csv('aus_gsod2019.csv', index=False)"
   ]
  },
  {
   "cell_type": "code",
   "execution_count": null,
   "metadata": {},
   "outputs": [],
   "source": []
  }
 ],
 "metadata": {
  "kernelspec": {
   "display_name": "Python 3",
   "language": "python",
   "name": "python3"
  },
  "language_info": {
   "codemirror_mode": {
    "name": "ipython",
    "version": 3
   },
   "file_extension": ".py",
   "mimetype": "text/x-python",
   "name": "python",
   "nbconvert_exporter": "python",
   "pygments_lexer": "ipython3",
   "version": "3.6.6"
  }
 },
 "nbformat": 4,
 "nbformat_minor": 1
}
