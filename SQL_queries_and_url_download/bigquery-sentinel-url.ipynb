{
 "cells": [
  {
   "cell_type": "code",
   "execution_count": 1,
   "metadata": {
    "_cell_guid": "b1076dfc-b9ad-4769-8c92-a6c4dae69d19",
    "_uuid": "8f2839f25d086af736a60e9eeb907d3b93b6e0e5"
   },
   "outputs": [],
   "source": [
    "import numpy as np\n",
    "import pandas as pd\n",
    "\n",
    "PROJECT_ID = 'bigquery-261200'\n",
    "from google.cloud import bigquery\n",
    "bigquery_client = bigquery.Client(project=PROJECT_ID)\n",
    "from google.cloud import storage\n",
    "storage_client = storage.Client(project=PROJECT_ID)"
   ]
  },
  {
   "cell_type": "code",
   "execution_count": 2,
   "metadata": {
    "_cell_guid": "79c7e3d0-c299-4dcb-8224-4455121ee9b0",
    "_uuid": "d629ff2d2480ee46fbb7e2d37f6b5fab8052498a"
   },
   "outputs": [],
   "source": [
    "def generate_query():\n",
    "    return f\"\"\"SELECT * FROM \n",
    "      `bigquery-public-data.cloud_storage_geo_index.sentinel_2_index`\n",
    "      WHERE mgrs_tile='53HPA'\n",
    "      AND total_size > 500000000\n",
    "    ;\n",
    "      \"\"\""
   ]
  },
  {
   "cell_type": "code",
   "execution_count": 3,
   "metadata": {},
   "outputs": [],
   "source": [
    "res = bigquery_client.query(generate_query()).to_dataframe()\n",
    "res['cloud_cover'] = res['cloud_cover'].astype(float)\n",
    "res = res[res['cloud_cover']<75]\n",
    "res.to_csv('sentinel_url.csv', index=False)\n"
   ]
  },
  {
   "cell_type": "code",
   "execution_count": null,
   "metadata": {},
   "outputs": [],
   "source": []
  }
 ],
 "metadata": {
  "kernelspec": {
   "display_name": "Python 3",
   "language": "python",
   "name": "python3"
  },
  "language_info": {
   "codemirror_mode": {
    "name": "ipython",
    "version": 3
   },
   "file_extension": ".py",
   "mimetype": "text/x-python",
   "name": "python",
   "nbconvert_exporter": "python",
   "pygments_lexer": "ipython3",
   "version": "3.6.6"
  }
 },
 "nbformat": 4,
 "nbformat_minor": 1
}
